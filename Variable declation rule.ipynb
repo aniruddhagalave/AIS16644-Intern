{
 "cells": [
  {
   "cell_type": "code",
   "execution_count": 8,
   "id": "16a4aad8-2db3-416b-a617-34190f662815",
   "metadata": {},
   "outputs": [],
   "source": [
    "#A variable can have a short name (like x and y) \n",
    "#or a more descriptive name (age, carname, total_volume)\n"
   ]
  },
  {
   "cell_type": "markdown",
   "id": "519e0f63-b87a-4634-90bc-8ce494301cf8",
   "metadata": {},
   "source": [
    "#Variables Naming Rules\n",
    "A variable name must start with a letter or the underscore character\")\n",
    "A variable name cannot start with a number\")\n",
    "A variable name can only contain alpha-numeric characters and underscores (A-z, 0-9, and _ )\n",
    "Variable names are case-sensitive (age, Age and AGE are three different variables)\n",
    "A variable name cannot be any of the Python keywords\n"
   ]
  },
  {
   "cell_type": "code",
   "execution_count": 10,
   "id": "b1371f70-cc75-40c9-ab69-017ef6034e78",
   "metadata": {},
   "outputs": [
    {
     "name": "stdout",
     "output_type": "stream",
     "text": [
      "Name_of_Person\n",
      "Aniruddha\n"
     ]
    }
   ],
   "source": [
    "#Example\n",
    "x=\"Name_of_Person\"\n",
    "y=\"Aniruddha\"\n",
    "print(x)\n",
    "print(y)"
   ]
  },
  {
   "cell_type": "code",
   "execution_count": 11,
   "id": "bdffb361-ad9d-4480-88fb-a3429e4fb43f",
   "metadata": {},
   "outputs": [],
   "source": [
    "#Multi Words Variable Names\n",
    "#Camel Case\n",
    "#Each word, except the first, starts with a capital letter:\n",
    "myName = \"Aniruddha\""
   ]
  },
  {
   "cell_type": "code",
   "execution_count": 12,
   "id": "453586b0-a453-4504-aaf2-f5a3a7751651",
   "metadata": {},
   "outputs": [],
   "source": [
    "#Pascal Case\n",
    "#Each word starts with a capital letter:\n",
    "MyName = \"Aniruddha\"\n"
   ]
  },
  {
   "cell_type": "code",
   "execution_count": 13,
   "id": "e1b87281-a355-4259-93c9-6fc476492d34",
   "metadata": {},
   "outputs": [],
   "source": [
    "#Snake Case\n",
    "#Each word is separated by an underscore character:\n",
    "my_name = \"Aniruddha\""
   ]
  },
  {
   "cell_type": "code",
   "execution_count": 5,
   "id": "d9de85d5-2693-4a6f-9ded-596cc5ace77d",
   "metadata": {},
   "outputs": [
    {
     "name": "stdout",
     "output_type": "stream",
     "text": [
      "Red\n",
      "Blue\n",
      "yellow\n"
     ]
    }
   ],
   "source": [
    "#Many Values to Multiple Variables\n",
    "#Example\n",
    "x, y, z = \"Red\", \"Blue\", \"yellow\"\n",
    "print(x)\n",
    "print(y)\n",
    "print(z)"
   ]
  },
  {
   "cell_type": "code",
   "execution_count": null,
   "id": "ce9ef009-f6f9-42b2-bfc6-9b0b28313b02",
   "metadata": {},
   "outputs": [],
   "source": []
  }
 ],
 "metadata": {
  "kernelspec": {
   "display_name": "Python 3 (ipykernel)",
   "language": "python",
   "name": "python3"
  },
  "language_info": {
   "codemirror_mode": {
    "name": "ipython",
    "version": 3
   },
   "file_extension": ".py",
   "mimetype": "text/x-python",
   "name": "python",
   "nbconvert_exporter": "python",
   "pygments_lexer": "ipython3",
   "version": "3.11.7"
  }
 },
 "nbformat": 4,
 "nbformat_minor": 5
}
