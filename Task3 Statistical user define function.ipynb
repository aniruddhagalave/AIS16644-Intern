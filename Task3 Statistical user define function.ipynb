{
 "cells": [
  {
   "cell_type": "code",
   "execution_count": 10,
   "id": "a146230f-d87f-4a90-8c44-79e9131a89c2",
   "metadata": {},
   "outputs": [
    {
     "name": "stdout",
     "output_type": "stream",
     "text": [
      "The mean is 5.75\n"
     ]
    }
   ],
   "source": [
    "# Mean\n",
    "def cal_mean(l):\n",
    "    if len(l)==0:\n",
    "       return(0)\n",
    "    mean=sum(l)/len(l)\n",
    "    return(mean)\n",
    "l=[4,5,6,8]\n",
    "mean=cal_mean(l)\n",
    "print(\"The mean is:\",mean)"
   ]
  },
  {
   "cell_type": "code",
   "execution_count": 11,
   "id": "bd8874c6-1d02-4926-8ba9-1c5099dada05",
   "metadata": {},
   "outputs": [
    {
     "name": "stdout",
     "output_type": "stream",
     "text": [
      "Median: 3.5\n"
     ]
    }
   ],
   "source": [
    "# Median\n",
    "def median(l):\n",
    "    s_n = sorted(l)\n",
    "    n = len(s_n)\n",
    "    if n % 2 == 0:\n",
    "        # If the number of elements is even, take the average of the middle two numbers\n",
    "        middle_left = s_n[n // 2 - 1]\n",
    "        middle_right = s_n[n // 2]\n",
    "        return (middle_left + middle_right) / 2\n",
    "    else:\n",
    "        # If the number of elements is odd, return the middle number\n",
    "        return sorted_numbers[n // 2]\n",
    "l = [5, 2, 8, 4, 1, 3]\n",
    "print(\"Median:\", median(l))"
   ]
  },
  {
   "cell_type": "code",
   "execution_count": 13,
   "id": "6306e9dc-f382-4bae-84e7-0271d007e641",
   "metadata": {},
   "outputs": [
    {
     "name": "stdout",
     "output_type": "stream",
     "text": [
      "Mode: [2]\n"
     ]
    }
   ],
   "source": [
    "# Mode\n",
    "def cal_mode(l):\n",
    "    counts = {}\n",
    "    for num in l:\n",
    "        if num in counts:\n",
    "            counts[num] += 1\n",
    "        else:\n",
    "            counts[num] = 1\n",
    "    \n",
    "    max_count = max(counts.values())\n",
    "    mode = [num for num, count in counts.items() if count == max_count]\n",
    "    \n",
    "    return mode\n",
    "\n",
    "l = [1, 2, 3, 4, 2, 2, 3, 4, 5]\n",
    "mode = cal_mode(l)\n",
    "print(\"Mode:\", mode)"
   ]
  },
  {
   "cell_type": "code",
   "execution_count": 16,
   "id": "01df76b5-c6d8-4aa6-b623-09ca560b39d2",
   "metadata": {},
   "outputs": [
    {
     "name": "stdout",
     "output_type": "stream",
     "text": [
      "Range: 73\n"
     ]
    }
   ],
   "source": [
    "# Range\n",
    "def cal_range(l):\n",
    "    min_value=min(l)\n",
    "    max_value=max(l)\n",
    "    return max_value - min_value\n",
    "l=[12,45,74,85,35,65]\n",
    "range=cal_range(l)\n",
    "print(\"Range:\",range)\n",
    "    "
   ]
  },
  {
   "cell_type": "code",
   "execution_count": 25,
   "id": "acda0298-2aca-494d-bb6f-5255d47a2039",
   "metadata": {},
   "outputs": [
    {
     "name": "stdout",
     "output_type": "stream",
     "text": [
      "Var: 2.1875\n"
     ]
    }
   ],
   "source": [
    "# Variance\n",
    "def cal_variance(l):\n",
    "    if len(l)==0:\n",
    "       return(0)\n",
    "    mean=sum(l)/len(l)\n",
    "    s=[(x-mean)**2 for x in l]\n",
    "    var=sum(s)/len(l)\n",
    "    return(var)\n",
    "l=[4,5,6,8]\n",
    "var=cal_variance(l)\n",
    "print(\"Var:\",var)"
   ]
  },
  {
   "cell_type": "code",
   "execution_count": 1,
   "id": "dfb68f7b-3d93-4de9-979b-bbcc1e467b83",
   "metadata": {},
   "outputs": [
    {
     "name": "stdout",
     "output_type": "stream",
     "text": [
      "Sd: 1.479019945774904\n"
     ]
    }
   ],
   "source": [
    "# Standard deviation\n",
    "def cal_sd(l):\n",
    "    if len(l)==0:\n",
    "       return(0)\n",
    "    mean=sum(l)/len(l)\n",
    "    s=[(x-mean)**2 for x in l]\n",
    "    var=sum(s)/len(l)\n",
    "    sd=var**0.5\n",
    "    return(sd)\n",
    "l=[4,5,6,8]\n",
    "sd=cal_sd(l)\n",
    "print(\"Sd:\",sd)"
   ]
  },
  {
   "cell_type": "code",
   "execution_count": 1,
   "id": "b900a580-da18-44c5-9ce6-c324d53c4878",
   "metadata": {},
   "outputs": [
    {
     "name": "stdout",
     "output_type": "stream",
     "text": [
      "Covariance: 2.3499999999999996\n"
     ]
    }
   ],
   "source": [
    "def covariance(X,Y):\n",
    "    n = len(X)\n",
    "    mean_X = sum(X)/n\n",
    "    mean_Y = sum(Y)/n\n",
    "    \n",
    "    cov = sum((X[i] - mean_X) * (Y[i] - mean_Y) for i in range(n)) / (n - 1)\n",
    "    return cov\n",
    "\n",
    "# Example\n",
    "X = [4,5,6,7,5]\n",
    "Y = [11,12,14,17,15]\n",
    "cov=covariance(X,Y)\n",
    "print(\"Covariance:\", cov)"
   ]
  },
  {
   "cell_type": "code",
   "execution_count": 26,
   "id": "afc0b44a-25e9-49e8-b748-b140bbf172f2",
   "metadata": {},
   "outputs": [
    {
     "name": "stdout",
     "output_type": "stream",
     "text": [
      "Correlation: 0.09464487350821967\n"
     ]
    }
   ],
   "source": [
    "#correlation\n",
    "def correlation(X,Y):\n",
    "    n=len(X)\n",
    "    mean_X = sum(X)/n\n",
    "    mean_Y = sum(Y)/n\n",
    "    a=sum((X[i]-mean_X)*(Y[i]-mean_Y) for i in range(n)) / (n - 1)\n",
    "    b= (sum((x-mean_X)**2 for x in X)*(sum((y-mean_Y)**2 for y in Y))**0.5)\n",
    "    corr=a/b\n",
    "    return corr\n",
    "X = [4,5,6,7,5]\n",
    "Y = [11,12,14,17,15]\n",
    "corr=correlation(X,Y)\n",
    "print(\"Correlation:\",corr)"
   ]
  },
  {
   "cell_type": "code",
   "execution_count": 12,
   "id": "a8214647-b86f-49cc-95dc-36d617b1373b",
   "metadata": {},
   "outputs": [
    {
     "name": "stdout",
     "output_type": "stream",
     "text": [
      "Skewness: 0.15798755143759521\n"
     ]
    }
   ],
   "source": [
    "# Skewness\n",
    "def skewness(l):\n",
    "    n=len(l)\n",
    "    mean=sum(l)/n\n",
    "    a=sum((x-mean)**3 for x in l)/n\n",
    "    b=(sum((x-mean)**2 for x in l)/n)**(3/2)\n",
    "    skew=a/b\n",
    "    return(skew)\n",
    "l=[4,5,6,8,9]\n",
    "skew=skewness(l)\n",
    "print(\"Skewness:\",skew)"
   ]
  },
  {
   "cell_type": "code",
   "execution_count": 17,
   "id": "c4031b40-21a9-4340-9eb0-e08a9c086222",
   "metadata": {},
   "outputs": [
    {
     "name": "stdout",
     "output_type": "stream",
     "text": [
      "Kurtosis: -1.4908058409951326\n"
     ]
    }
   ],
   "source": [
    "# Kurtosis\n",
    "def kurtosis(l):\n",
    "    n=len(l)\n",
    "    mean=sum(l)/n\n",
    "    a=sum((x-mean)**4 for x in l)/n\n",
    "    b=(sum((x-mean)**2 for x in l)/n)**2\n",
    "    kurt=(a/b)-3\n",
    "    return(kurt)\n",
    "l=[4,5,6,8,9]\n",
    "kurt=kurtosis(l)\n",
    "print(\"Kurtosis:\",kurt)"
   ]
  },
  {
   "cell_type": "code",
   "execution_count": null,
   "id": "870a08f8-7b40-44b2-96da-271912090949",
   "metadata": {},
   "outputs": [],
   "source": []
  }
 ],
 "metadata": {
  "kernelspec": {
   "display_name": "Python 3 (ipykernel)",
   "language": "python",
   "name": "python3"
  },
  "language_info": {
   "codemirror_mode": {
    "name": "ipython",
    "version": 3
   },
   "file_extension": ".py",
   "mimetype": "text/x-python",
   "name": "python",
   "nbconvert_exporter": "python",
   "pygments_lexer": "ipython3",
   "version": "3.11.7"
  }
 },
 "nbformat": 4,
 "nbformat_minor": 5
}
