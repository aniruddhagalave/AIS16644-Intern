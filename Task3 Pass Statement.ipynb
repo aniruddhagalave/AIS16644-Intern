{
 "cells": [
  {
   "cell_type": "code",
   "execution_count": null,
   "id": "24375e3a-581f-4d9e-b80f-e09020c125bf",
   "metadata": {},
   "outputs": [],
   "source": [
    "# Pass Statement\n",
    "\n",
    "#The pass statement is used as a placeholder for future code.\n",
    "#When the pass statement is executed, nothing happens, but you avoid getting an error when empty code is not allowed.\n",
    "#Empty code is not allowed in loops, function definitions, class definitions, or in if statements.\n",
    "\n"
   ]
  },
  {
   "cell_type": "code",
   "execution_count": 1,
   "id": "0474b522-1bac-41a4-9e6e-e048fda30f69",
   "metadata": {},
   "outputs": [],
   "source": [
    "#Example!\n",
    "#Using the pass keyword in a function definition:\n",
    "\n",
    "def myfunction():\n",
    "  pass\n"
   ]
  },
  {
   "cell_type": "code",
   "execution_count": 2,
   "id": "548b18dd-e73e-42e5-90ae-6d3d1c6db911",
   "metadata": {},
   "outputs": [],
   "source": [
    "#Example2\n",
    "#Using the pass keyword in an if statement:\n",
    "\n",
    "a = 33\n",
    "b = 200\n",
    "\n",
    "if b > a:\n",
    "  pass"
   ]
  },
  {
   "cell_type": "code",
   "execution_count": 8,
   "id": "cdd803a9-5caa-4b82-bb49-339287e59ce1",
   "metadata": {},
   "outputs": [],
   "source": [
    "#Example3\n",
    "for x in [1,2,3,5,6]:\n",
    "          pass"
   ]
  }
 ],
 "metadata": {
  "kernelspec": {
   "display_name": "Python 3 (ipykernel)",
   "language": "python",
   "name": "python3"
  },
  "language_info": {
   "codemirror_mode": {
    "name": "ipython",
    "version": 3
   },
   "file_extension": ".py",
   "mimetype": "text/x-python",
   "name": "python",
   "nbconvert_exporter": "python",
   "pygments_lexer": "ipython3",
   "version": "3.11.7"
  }
 },
 "nbformat": 4,
 "nbformat_minor": 5
}
