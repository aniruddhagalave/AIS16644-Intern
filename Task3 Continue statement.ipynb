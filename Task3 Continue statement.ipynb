{
 "cells": [
  {
   "cell_type": "code",
   "execution_count": 2,
   "id": "508cc89a-a259-45ac-9b2a-0563e9a9fde5",
   "metadata": {},
   "outputs": [],
   "source": [
    "# Continue Statement\n",
    "# The continue keyword is used to end the current iteration in a for loop (or a while loop), and continues to the next iteration."
   ]
  },
  {
   "cell_type": "code",
   "execution_count": 4,
   "id": "98d61f03-c119-444a-9c1e-e9297d432040",
   "metadata": {},
   "outputs": [
    {
     "name": "stdout",
     "output_type": "stream",
     "text": [
      "2\n",
      "3\n",
      "4\n"
     ]
    }
   ],
   "source": [
    "#Example1\n",
    "#Use the continue keyword in a while loop:\n",
    "\n",
    "i = 1\n",
    "while i <= 4:\n",
    "  i += 1\n",
    "  if i == 5:\n",
    "    continue\n",
    "  print(i)"
   ]
  },
  {
   "cell_type": "code",
   "execution_count": 5,
   "id": "5c4ad5ca-a703-4625-9a68-dfee84b25576",
   "metadata": {},
   "outputs": [
    {
     "name": "stdout",
     "output_type": "stream",
     "text": [
      "0\n",
      "1\n",
      "3\n",
      "4\n",
      "5\n"
     ]
    }
   ],
   "source": [
    "#Example2\n",
    "#Skip the iteration if the variable i is 2, but continue with the next iteration:\n",
    "\n",
    "for i in range(6):\n",
    "  if i == 2:\n",
    "    continue\n",
    "  print(i)"
   ]
  },
  {
   "cell_type": "code",
   "execution_count": 6,
   "id": "9ab7364e-e03b-4b0f-b513-abd54a6c8358",
   "metadata": {},
   "outputs": [
    {
     "name": "stdout",
     "output_type": "stream",
     "text": [
      "BMW\n",
      "Jeep\n"
     ]
    }
   ],
   "source": [
    "#Example3\n",
    "#Do not print Audi:\n",
    "\n",
    "cars = [\"BMW\", \"Audi\", \"Jeep\"]\n",
    "for x in cars:\n",
    "  if x == \"Audi\":\n",
    "    continue\n",
    "  print(x)"
   ]
  }
 ],
 "metadata": {
  "kernelspec": {
   "display_name": "Python 3 (ipykernel)",
   "language": "python",
   "name": "python3"
  },
  "language_info": {
   "codemirror_mode": {
    "name": "ipython",
    "version": 3
   },
   "file_extension": ".py",
   "mimetype": "text/x-python",
   "name": "python",
   "nbconvert_exporter": "python",
   "pygments_lexer": "ipython3",
   "version": "3.11.7"
  }
 },
 "nbformat": 4,
 "nbformat_minor": 5
}
