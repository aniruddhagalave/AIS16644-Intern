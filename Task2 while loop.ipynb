{
 "cells": [
  {
   "cell_type": "markdown",
   "id": "67e65fd5-5254-4cf4-af68-bdb6e526edc7",
   "metadata": {},
   "source": [
    "#The while Loop\n",
    "With the while loop we can execute a set of statements as long as a condition is true."
   ]
  },
  {
   "cell_type": "code",
   "execution_count": 1,
   "id": "68a240f3-8d3f-4188-8119-e6f0d09b4a1c",
   "metadata": {},
   "outputs": [
    {
     "name": "stdout",
     "output_type": "stream",
     "text": [
      "1\n",
      "2\n",
      "3\n",
      "4\n",
      "5\n"
     ]
    }
   ],
   "source": [
    "#Example\n",
    "#Print i as long as i is less than 6:\n",
    "\n",
    "i = 1\n",
    "while i < 6:\n",
    "  print(i)\n",
    "  i += 1"
   ]
  },
  {
   "cell_type": "code",
   "execution_count": 2,
   "id": "69199473-b065-41a1-899c-96f6b3c1f30b",
   "metadata": {},
   "outputs": [
    {
     "name": "stdout",
     "output_type": "stream",
     "text": [
      "1\n",
      "2\n",
      "3\n"
     ]
    }
   ],
   "source": [
    "#Example2\n",
    "x = 1\n",
    "while x <= 3:\n",
    "  print(x)\n",
    "  x += 1"
   ]
  },
  {
   "cell_type": "code",
   "execution_count": 3,
   "id": "0aeb9dd2-0fd3-43f9-afd7-0907b977b90c",
   "metadata": {},
   "outputs": [
    {
     "name": "stdout",
     "output_type": "stream",
     "text": [
      "1\n",
      "2\n",
      "3\n"
     ]
    }
   ],
   "source": [
    "#The break Statement\n",
    "#With the break statement we can stop the loop even if the while condition is true:\n",
    "\n",
    "#Example\n",
    "#Exit the loop when i is 3:\n",
    "\n",
    "i = 1\n",
    "while i < 6:\n",
    "  print(i)\n",
    "  if i == 3:\n",
    "    break\n",
    "  i += 1"
   ]
  },
  {
   "cell_type": "code",
   "execution_count": 4,
   "id": "64486472-66e7-44af-8cc8-91d68f9da947",
   "metadata": {},
   "outputs": [
    {
     "name": "stdout",
     "output_type": "stream",
     "text": [
      "1\n",
      "2\n",
      "4\n",
      "5\n",
      "6\n"
     ]
    }
   ],
   "source": [
    "#The continue Statement\n",
    "#With the continue statement we can stop the current iteration, and continue with the next:\n",
    "\n",
    "#Example\n",
    "#Continue to the next iteration if i is 3:\n",
    "\n",
    "i = 0\n",
    "while i < 6:\n",
    "  i += 1\n",
    "  if i == 3:\n",
    "    continue\n",
    "  print(i)"
   ]
  },
  {
   "cell_type": "code",
   "execution_count": 5,
   "id": "1a98eb10-f437-4d47-968f-3cf4ea285beb",
   "metadata": {},
   "outputs": [
    {
     "name": "stdout",
     "output_type": "stream",
     "text": [
      "1\n",
      "2\n",
      "3\n",
      "4\n",
      "5\n",
      "i is no longer less than 6\n"
     ]
    }
   ],
   "source": [
    "#The else Statement\n",
    "#With the else statement we can run a block of code once when the condition no longer is true:\n",
    "\n",
    "#Example\n",
    "#Print a message once the condition is false:\n",
    "\n",
    "i = 1\n",
    "while i < 6:\n",
    "  print(i)\n",
    "  i += 1\n",
    "else:\n",
    "  print(\"i is no longer less than 6\")"
   ]
  },
  {
   "cell_type": "code",
   "execution_count": null,
   "id": "05843192-55c1-475d-9bac-31b50f72c1be",
   "metadata": {},
   "outputs": [],
   "source": []
  }
 ],
 "metadata": {
  "kernelspec": {
   "display_name": "Python 3 (ipykernel)",
   "language": "python",
   "name": "python3"
  },
  "language_info": {
   "codemirror_mode": {
    "name": "ipython",
    "version": 3
   },
   "file_extension": ".py",
   "mimetype": "text/x-python",
   "name": "python",
   "nbconvert_exporter": "python",
   "pygments_lexer": "ipython3",
   "version": "3.11.7"
  }
 },
 "nbformat": 4,
 "nbformat_minor": 5
}
