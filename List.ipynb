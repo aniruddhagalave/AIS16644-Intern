{
 "cells": [
  {
   "cell_type": "markdown",
   "id": "7ec41477-18d3-4b16-a474-49cfed567804",
   "metadata": {},
   "source": [
    "#List\n",
    "Lists are used to store multiple items in a single variable.\n",
    "\n",
    "Lists are one of 4 built-in data types in Python used to store collections of data, the other 3 are Tuple, Set, and Dictionary, all with different qualities and usage."
   ]
  },
  {
   "cell_type": "code",
   "execution_count": 2,
   "id": "af47a97e-2e90-469e-866c-69b005fbc488",
   "metadata": {},
   "outputs": [
    {
     "name": "stdout",
     "output_type": "stream",
     "text": [
      "['Red', 'Blue', 'Yellow']\n"
     ]
    }
   ],
   "source": [
    "#Lists are created using square brackets:\n",
    "\n",
    "#Example\n",
    "list = [\"Red\", \"Blue\", \"Yellow\"]\n",
    "print(list)"
   ]
  },
  {
   "cell_type": "markdown",
   "id": "16d4f6c6-0fbd-4d64-aa76-ef8238cf3cc5",
   "metadata": {},
   "source": [
    "#List Items\n",
    "List items are ordered, changeable, and allow duplicate values.\n",
    "List items are indexed, the first item has index [0], the second item has index [1] etc.\n",
    "#Ordered\n",
    "When we say that lists are ordered, it means that the items have a defined order, and that order will not change.\n",
    "If you add new items to a list, the new items will be placed at the end of the list.\n",
    "#Changeable\n",
    "The list is changeable, meaning that we can change, add, and remove items in a list after it has been created."
   ]
  },
  {
   "cell_type": "code",
   "execution_count": 8,
   "id": "38213f96-0d36-4757-9c7f-e76a9e4bb13c",
   "metadata": {},
   "outputs": [
    {
     "name": "stdout",
     "output_type": "stream",
     "text": [
      "['apple', 'banana', 'cherry', 'apple', 'cherry']\n"
     ]
    }
   ],
   "source": [
    "#Allow Duplicates\n",
    "#Since lists are indexed, lists can have items with the same value:\n",
    "\n",
    "#Example\n",
    "#Lists allow duplicate values:\n",
    "list = [\"apple\", \"banana\", \"cherry\", \"apple\", \"cherry\"]\n",
    "print(list)"
   ]
  },
  {
   "cell_type": "code",
   "execution_count": 3,
   "id": "2003830c-9c54-4f19-ba6d-d5c8156c5931",
   "metadata": {},
   "outputs": [
    {
     "name": "stdout",
     "output_type": "stream",
     "text": [
      "3\n"
     ]
    }
   ],
   "source": [
    "#List Length\n",
    "#To determine how many items a list has, use the len() function:\n",
    "\n",
    "#Example\n",
    "list = [\"Red\", \"Blue\", \"Yellow\"]\n",
    "print(len(list))\n"
   ]
  },
  {
   "cell_type": "code",
   "execution_count": 5,
   "id": "a5de5c1b-dd76-4197-bbc7-f3690ac9b858",
   "metadata": {},
   "outputs": [
    {
     "name": "stdout",
     "output_type": "stream",
     "text": [
      "['Red', 'Blue', 'Yellow']\n",
      "[2, 8, 7, 14, 3]\n",
      "[True, False, True]\n"
     ]
    }
   ],
   "source": [
    "#List Items - Data Types\n",
    "#List items can be of any data type:\n",
    "\n",
    "#Example\n",
    "#String, int and boolean data types\n",
    "list1 = [\"Red\", \"Blue\", \"Yellow\"]\n",
    "list2 = [2,8, 7, 14, 3]\n",
    "list3 = [True, False, True]\n",
    "print(list1)\n",
    "print(list2)\n",
    "print(list3)"
   ]
  },
  {
   "cell_type": "code",
   "execution_count": 6,
   "id": "210b78c1-6da7-4df6-acfe-d5f3e8bc2916",
   "metadata": {},
   "outputs": [
    {
     "name": "stdout",
     "output_type": "stream",
     "text": [
      "['abc', 34, True, 40, 'male']\n"
     ]
    }
   ],
   "source": [
    "#A list can contain different data types\n",
    "\n",
    "#Example\n",
    "#A list with strings, integers and boolean values:\n",
    "\n",
    "list1 = [\"abc\", 34, True, 40, \"male\"]\n",
    "print(list1)"
   ]
  },
  {
   "cell_type": "markdown",
   "id": "bef7a6e1-cceb-473a-8f56-1fbfdd71fede",
   "metadata": {},
   "source": [
    "#type()\n",
    "lists are defined as objects with the data type 'list':\n",
    "<class 'list'>"
   ]
  },
  {
   "cell_type": "code",
   "execution_count": 7,
   "id": "85e3a81c-ae9c-47fc-b93a-e0c91fcee1d2",
   "metadata": {},
   "outputs": [
    {
     "name": "stdout",
     "output_type": "stream",
     "text": [
      "<class 'list'>\n"
     ]
    }
   ],
   "source": [
    "#Example\n",
    "mylist = [\"Red\", \"Blue\", \"Yellow\"]\n",
    "print(type(mylist))\n"
   ]
  },
  {
   "cell_type": "code",
   "execution_count": 1,
   "id": "99d465d4-535b-46d5-ab34-d5dc792f363d",
   "metadata": {
    "jp-MarkdownHeadingCollapsed": true
   },
   "outputs": [
    {
     "name": "stdout",
     "output_type": "stream",
     "text": [
      "['Red', 'Blue', 'Yellow']\n"
     ]
    }
   ],
   "source": [
    "#The list() Constructor\n",
    "#It is also possible to use the list() constructor when creating a new list.\n",
    "\n",
    "#Example\n",
    "#Using the list() constructor to make a List:\n",
    "\n",
    "mylist = list((\"Red\", \"Blue\", \"Yellow\")) # note the double round-brackets\n",
    "print(mylist)"
   ]
  }
 ],
 "metadata": {
  "kernelspec": {
   "display_name": "Python 3 (ipykernel)",
   "language": "python",
   "name": "python3"
  },
  "language_info": {
   "codemirror_mode": {
    "name": "ipython",
    "version": 3
   },
   "file_extension": ".py",
   "mimetype": "text/x-python",
   "name": "python",
   "nbconvert_exporter": "python",
   "pygments_lexer": "ipython3",
   "version": "3.11.7"
  }
 },
 "nbformat": 4,
 "nbformat_minor": 5
}
