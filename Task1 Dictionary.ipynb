{
 "cells": [
  {
   "cell_type": "markdown",
   "id": "a2d4d398-d6f7-4a00-96b7-082a91a70668",
   "metadata": {},
   "source": [
    "#Dictionary\n",
    "Dictionaries are used to store data values in key:value pairs.\n",
    "A dictionary is a collection which is ordered*, changeable and do not allow duplicates."
   ]
  },
  {
   "cell_type": "code",
   "execution_count": 1,
   "id": "4982a4f0-005b-4b1b-ab5e-fccf3c039c78",
   "metadata": {},
   "outputs": [
    {
     "name": "stdout",
     "output_type": "stream",
     "text": [
      "{'brand': 'Ford', 'model': 'Mustang', 'year': 1964}\n"
     ]
    }
   ],
   "source": [
    "#Dictionaries are written with curly brackets, and have keys and values\n",
    "\n",
    "#Example\n",
    "#Create and print a dictionary:\n",
    "\n",
    "dict = {\n",
    "  \"brand\": \"Ford\",\n",
    "  \"model\": \"Mustang\",\n",
    "  \"year\": 1964\n",
    "}\n",
    "print(dict)"
   ]
  },
  {
   "cell_type": "code",
   "execution_count": 2,
   "id": "b23d97f9-0abe-48f5-bc37-5d671b3ae962",
   "metadata": {},
   "outputs": [
    {
     "name": "stdout",
     "output_type": "stream",
     "text": [
      "Ford\n"
     ]
    }
   ],
   "source": [
    "#Dictionary Items\n",
    "#Dictionary items are ordered, changeable, and do not allow duplicates.\n",
    "#Dictionary items are presented in key:value pairs, and can be referred to by using the key name.\n",
    "\n",
    "#Example\n",
    "# the \"brand\" value of the dictionary:\n",
    "\n",
    "dict = {\n",
    "  \"brand\": \"Ford\",\n",
    "  \"model\": \"Mustang\",\n",
    "  \"year\": 1964\n",
    "}\n",
    "print(dict[\"brand\"])\n"
   ]
  },
  {
   "cell_type": "markdown",
   "id": "97c086ee-2757-47e7-929c-99d9aa470d6c",
   "metadata": {},
   "source": [
    "#Ordered \n",
    "When we say that dictionaries are ordered, it means that the items have a defined order, and that order will not change.\n",
    "\n",
    "#Unordered\n",
    "Unordered means that the items do not have a defined order, you cannot refer to an item by using an index.\n",
    "\n",
    "#Changeable\n",
    "Dictionaries are changeable, meaning that we can change, add or remove items after the dictionary has been created."
   ]
  },
  {
   "cell_type": "code",
   "execution_count": 3,
   "id": "6068fbb3-6e06-4499-9371-70e8bb293840",
   "metadata": {},
   "outputs": [
    {
     "name": "stdout",
     "output_type": "stream",
     "text": [
      "{'brand': 'Ford', 'model': 'Mustang', 'year': 2020}\n"
     ]
    }
   ],
   "source": [
    "#Duplicates Not Allowed\n",
    "#Dictionaries cannot have two items with the same key:\n",
    "\n",
    "#Example\n",
    "\n",
    "dict = {\n",
    "  \"brand\": \"Ford\",\n",
    "  \"model\": \"Mustang\",\n",
    "  \"year\": 1964,\n",
    "  \"year\": 2020\n",
    "}\n",
    "print(dict)"
   ]
  },
  {
   "cell_type": "code",
   "execution_count": 4,
   "id": "f4689dcf-020f-44af-b8d7-2935270b2edd",
   "metadata": {},
   "outputs": [
    {
     "name": "stdout",
     "output_type": "stream",
     "text": [
      "3\n"
     ]
    }
   ],
   "source": [
    "#Dictionary Length\n",
    "#To determine how many items a dictionary has, use the len() function:\n",
    "\n",
    "#Example\n",
    "thisdict = {\n",
    "  \"brand\": \"Ford\",\n",
    "  \"model\": \"Mustang\",\n",
    "  \"year\": 1964,\n",
    "  \"year\": 2020\n",
    "}\n",
    "print(len(thisdict))\n"
   ]
  },
  {
   "cell_type": "code",
   "execution_count": 5,
   "id": "2f8ed5e4-f815-4b30-95ba-569f8c37941c",
   "metadata": {},
   "outputs": [
    {
     "name": "stdout",
     "output_type": "stream",
     "text": [
      "{'brand': 'Ford', 'electric': False, 'year': 1964, 'colors': ['red', 'white', 'blue']}\n"
     ]
    }
   ],
   "source": [
    "#Dictionary Items - Data Types\n",
    "#The values in dictionary items can be of any data type\n",
    "\n",
    "#Example\n",
    "#String, int, boolean, and list data types:\n",
    "\n",
    "dict = {\n",
    "  \"brand\": \"Ford\",\n",
    "  \"electric\": False,\n",
    "  \"year\": 1964,\n",
    "  \"colors\": [\"red\", \"white\", \"blue\"]\n",
    "}\n",
    "print(dict)"
   ]
  },
  {
   "cell_type": "code",
   "execution_count": 6,
   "id": "490c6317-b725-413f-8efc-9977cfdf208e",
   "metadata": {},
   "outputs": [
    {
     "name": "stdout",
     "output_type": "stream",
     "text": [
      "<class 'dict'>\n"
     ]
    }
   ],
   "source": [
    "#type()\n",
    "#dictionaries are defined as objects with the data type 'dict':<class 'dict'>\n",
    "#Example\n",
    "\n",
    "dict = {\n",
    "  \"brand\": \"Ford\",\n",
    "  \"model\": \"Mustang\",\n",
    "  \"year\": 1964\n",
    "}\n",
    "print(type(dict))"
   ]
  },
  {
   "cell_type": "markdown",
   "id": "3abd4c65-d9f5-4567-8160-2d48df1357c2",
   "metadata": {},
   "source": [
    "#The dict() Constructor\n",
    "#It is also possible to use the dict() constructor to make a dictionary.\n",
    "\n",
    "#Using the dict() method to make a dictionary:\n",
    "\n",
    "mydict = dict(name = \"John\", age = 36, country = \"Norway\")\n",
    "print(mydict)"
   ]
  },
  {
   "cell_type": "code",
   "execution_count": null,
   "id": "e0974fc0-611a-42c3-b4a0-3fb413606fd4",
   "metadata": {},
   "outputs": [],
   "source": []
  }
 ],
 "metadata": {
  "kernelspec": {
   "display_name": "Python 3 (ipykernel)",
   "language": "python",
   "name": "python3"
  },
  "language_info": {
   "codemirror_mode": {
    "name": "ipython",
    "version": 3
   },
   "file_extension": ".py",
   "mimetype": "text/x-python",
   "name": "python",
   "nbconvert_exporter": "python",
   "pygments_lexer": "ipython3",
   "version": "3.11.7"
  }
 },
 "nbformat": 4,
 "nbformat_minor": 5
}
