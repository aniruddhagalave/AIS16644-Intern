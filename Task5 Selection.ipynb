{
 "cells": [
  {
   "cell_type": "code",
   "execution_count": 2,
   "id": "4b59f6d8-c72e-4037-ab10-3713c9f183a2",
   "metadata": {},
   "outputs": [
    {
     "name": "stdout",
     "output_type": "stream",
     "text": [
      "0    A\n",
      "1    B\n",
      "2    C\n",
      "3    D\n",
      "4    E\n",
      "Name: Name, dtype: object\n",
      "  Name  Age\n",
      "0    A   25\n",
      "1    B   30\n",
      "2    C   35\n",
      "3    D   40\n",
      "4    E   45\n",
      "  Name  Age Gender City\n",
      "3    D   40      M    W\n",
      "4    E   45      F    S\n",
      "  Name  Age\n",
      "1    B   30\n",
      "2    C   35\n",
      "  Name  Age\n",
      "1    B   30\n",
      "2    C   35\n",
      "3    D   40\n"
     ]
    }
   ],
   "source": [
    "# DataFrame row,column selection:\n",
    "# Example\n",
    "import pandas as pd\n",
    "data = {'Name': ['A', 'B', 'C', 'D', 'E'],'Age': [25, 30, 35, 40, 45],'Gender': ['F', 'M', 'M', 'M', 'F'],'City': ['X', 'Y', 'Z', 'W', 'S']}\n",
    "\n",
    "df = pd.DataFrame(data)\n",
    "\n",
    "# Selecting a single column\n",
    "name_column = df['Name']\n",
    "print(name_column)\n",
    "\n",
    "# Selecting multiple columns\n",
    "subset = df[['Name', 'Age']]\n",
    "print(subset)\n",
    "\n",
    "# Selecting rows based on condition\n",
    "subset_age_35plus = df[df['Age'] > 35]\n",
    "print(subset_age_35plus)\n",
    "\n",
    "# Selecting rows and columns using iloc (index-based selection)\n",
    "subset_iloc = df.iloc[1:3, 0:2]  # Rows 1 and 2, Columns 0 and 1\n",
    "print(subset_iloc)\n",
    "\n",
    "# Selecting rows and columns using loc (label-based selection)\n",
    "subset_loc = df.loc[1:3, ['Name', 'Age']]  # Rows 1 to 3, Columns 'Name' and 'Age'\n",
    "print(subset_loc)"
   ]
  },
  {
   "cell_type": "code",
   "execution_count": 4,
   "id": "f5de273e-af9c-4f3c-b49a-9d1abbc3d929",
   "metadata": {},
   "outputs": [
    {
     "name": "stdout",
     "output_type": "stream",
     "text": [
      "  Name  Age Gender City\n",
      "2    C   35      M    Z\n",
      "3    D   40      M    W\n",
      "4    E   45      F    S\n",
      "  Name  Age Gender City\n",
      "1    B   30      M    Y\n",
      "2    C   35      M    Z\n",
      "3    D   40      M    W\n",
      "  Name  Age Gender City\n",
      "2    C   35      M    Z\n",
      "3    D   40      M    W\n"
     ]
    }
   ],
   "source": [
    "# conditional selection:\n",
    "# Example\n",
    "import pandas as pd\n",
    "data = {'Name': ['A', 'B', 'C', 'D', 'E'],'Age': [25, 30, 35, 40, 45],'Gender': ['F', 'M', 'M', 'M', 'F'],'City': ['X', 'Y', 'Z', 'W', 'S']}\n",
    "\n",
    "df = pd.DataFrame(data)\n",
    "\n",
    "# Filter rows where Age is greater than 30\n",
    "a = df[df['Age'] > 30]\n",
    "print(a)\n",
    "\n",
    "# Filter rows where Gender is Male\n",
    "b = df[df['Gender'] == 'M']\n",
    "print(b)\n",
    "\n",
    "# Combine multiple conditions using logical operators like & (AND) and | (OR)\n",
    "c = df[(df['Gender'] == 'M') & (df['Age'] > 30)]\n",
    "print(c)"
   ]
  },
  {
   "cell_type": "code",
   "execution_count": 8,
   "id": "994dc5cc-e0a9-419e-b18d-0ae335d83a09",
   "metadata": {},
   "outputs": [
    {
     "name": "stdout",
     "output_type": "stream",
     "text": [
      "  Name  Age Gender City\n",
      "2    C   35      M    Z\n",
      "3    D   40      M    W\n",
      "4    E   45      F    S\n"
     ]
    }
   ],
   "source": [
    "# Query(): select row using query\n",
    "# Example\n",
    "import pandas as pd\n",
    "data = {'Name': ['A', 'B', 'C', 'D', 'E'],'Age': [25, 30, 35, 40, 45],'Gender': ['F', 'M', 'M', 'M', 'F'],'City': ['X', 'Y', 'Z', 'W', 'S']}\n",
    "\n",
    "df = pd.DataFrame(data)\n",
    "\n",
    "subset=df.query('Age>30')\n",
    "print(subset)"
   ]
  },
  {
   "cell_type": "code",
   "execution_count": 12,
   "id": "b806dbb5-8df4-48f4-b346-54d3aebf4dec",
   "metadata": {},
   "outputs": [
    {
     "name": "stdout",
     "output_type": "stream",
     "text": [
      "    A  B   C\n",
      "0   1  a   2\n",
      "1   3  b   4\n",
      "2   7  c   6\n",
      "3   9  d   8\n",
      "4  11  e  10\n"
     ]
    }
   ],
   "source": [
    "# column add,delete,update:\n",
    "# Example\n",
    "# add new column C\n",
    "import pandas as pd\n",
    "data={'A':[1,3,7,9,11],'B':['a','b','c','d','e']}\n",
    "df=pd.DataFrame(data)\n",
    "df['C']=[2,4,6,8,10]\n",
    "print(df)\n"
   ]
  },
  {
   "cell_type": "code",
   "execution_count": 13,
   "id": "3527782c-629b-4ad9-a68d-81d14233341b",
   "metadata": {},
   "outputs": [
    {
     "name": "stdout",
     "output_type": "stream",
     "text": [
      "    A   C\n",
      "0   1   2\n",
      "1   3   4\n",
      "2   7   6\n",
      "3   9   8\n",
      "4  11  10\n"
     ]
    }
   ],
   "source": [
    "# Example\n",
    "# delete column B\n",
    "\n",
    "df = df.drop('B', axis=1)\n",
    "print(df)"
   ]
  },
  {
   "cell_type": "code",
   "execution_count": 14,
   "id": "f624c030-4dbd-4367-8946-86012ae99352",
   "metadata": {},
   "outputs": [
    {
     "name": "stdout",
     "output_type": "stream",
     "text": [
      "    A  B\n",
      "0   2  a\n",
      "1   4  b\n",
      "2   6  c\n",
      "3   8  d\n",
      "4  10  e\n"
     ]
    }
   ],
   "source": [
    "# Example\n",
    "# update values in column A\n",
    "import pandas as pd\n",
    "data={'A':[1,3,7,9,11],'B':['a','b','c','d','e']}\n",
    "df=pd.DataFrame(data)\n",
    "df['A']=[2,4,6,8,10]\n",
    "print(df)\n"
   ]
  },
  {
   "cell_type": "code",
   "execution_count": 20,
   "id": "d2221184-2ab4-451b-a15c-c33d53b8c75e",
   "metadata": {},
   "outputs": [
    {
     "name": "stdout",
     "output_type": "stream",
     "text": [
      "   A\n",
      "B   \n",
      "a  1\n",
      "b  2\n",
      "c  3\n",
      "d  4\n"
     ]
    }
   ],
   "source": [
    "# Index:To set a column as the index of the dataframe,use the set_index() function.\n",
    "# Example\n",
    "# Set column 'B' as the index\n",
    "import pandas as pd\n",
    "data={'A': [1, 2, 3, 4],'B': ['a', 'b', 'c', 'd']}\n",
    "df = pd.DataFrame(data)\n",
    "df.set_index('B', inplace=True)\n",
    "print(df)"
   ]
  },
  {
   "cell_type": "code",
   "execution_count": 27,
   "id": "d8fae4e7-6907-492c-9efa-c625b26edee4",
   "metadata": {},
   "outputs": [
    {
     "name": "stdout",
     "output_type": "stream",
     "text": [
      "   index  A  B\n",
      "0      0  1  a\n",
      "1      1  2  b\n",
      "2      2  3  c\n",
      "3      3  4  d\n"
     ]
    }
   ],
   "source": [
    "# Removing Index: To remove the index and reset it to the default integer index, use the reset_index() function. \n",
    "# Example\n",
    "import pandas as pd\n",
    "data={'A': [1, 2, 3, 4],'B': ['a', 'b', 'c', 'd']}\n",
    "df = pd.DataFrame(data)\n",
    "df.reset_index(inplace=True)\n",
    "print(df)"
   ]
  },
  {
   "cell_type": "code",
   "execution_count": 28,
   "id": "fee312bc-714e-4142-a859-7bc1b2d2016b",
   "metadata": {},
   "outputs": [
    {
     "name": "stdout",
     "output_type": "stream",
     "text": [
      "   A  B\n",
      "0  1  a\n",
      "1  2  b\n",
      "2  3  c\n",
      "3  4  d\n"
     ]
    }
   ],
   "source": [
    "# Example\n",
    "import pandas as pd\n",
    "data={'A': [1, 2, 3, 4],'B': ['a', 'b', 'c', 'd']}\n",
    "df = pd.DataFrame(data)\n",
    "df.reset_index(drop=True,inplace=True)\n",
    "print(df)"
   ]
  },
  {
   "cell_type": "code",
   "execution_count": 32,
   "id": "335da457-1191-4562-8be2-cc941a5703f7",
   "metadata": {},
   "outputs": [
    {
     "name": "stdout",
     "output_type": "stream",
     "text": [
      "    A   B\n",
      "0   8  14\n",
      "1  10  16\n",
      "2  12  18\n",
      "    A   B\n",
      "0   8  14\n",
      "1  10  16\n",
      "2  12  18\n"
     ]
    }
   ],
   "source": [
    "# Operation:\n",
    "# Addition using the add() method:\n",
    "import pandas as pd \n",
    "df1 = pd.DataFrame({'A': [1, 2, 3],'B': [4, 5, 6]})\n",
    "df2 = pd.DataFrame({'A': [7, 8, 9],'B': [10, 11, 12]})\n",
    "a=df1+df2\n",
    "print(a)\n",
    "b=df1.add(df2) # Alternative method\n",
    "print(b)"
   ]
  },
  {
   "cell_type": "code",
   "execution_count": 33,
   "id": "4a3cf01c-f9a8-4ee6-8c64-5249c3c56027",
   "metadata": {},
   "outputs": [
    {
     "name": "stdout",
     "output_type": "stream",
     "text": [
      "   A  B\n",
      "0 -6 -6\n",
      "1 -6 -6\n",
      "2 -6 -6\n",
      "   A  B\n",
      "0 -6 -6\n",
      "1 -6 -6\n",
      "2 -6 -6\n"
     ]
    }
   ],
   "source": [
    "# Subtraction using the sub() method:\n",
    "import pandas as pd \n",
    "df1 = pd.DataFrame({'A': [1, 2, 3],'B': [4, 5, 6]})\n",
    "df2 = pd.DataFrame({'A': [7, 8, 9],'B': [10, 11, 12]})\n",
    "c=df1-df2\n",
    "print(c)\n",
    "d=df1.sub(df2) # Alternative method\n",
    "print(d)"
   ]
  },
  {
   "cell_type": "code",
   "execution_count": 34,
   "id": "c5ce14eb-6e47-4417-bdbb-fa621c122e15",
   "metadata": {},
   "outputs": [
    {
     "name": "stdout",
     "output_type": "stream",
     "text": [
      "    A   B\n",
      "0   7  40\n",
      "1  16  55\n",
      "2  27  72\n",
      "    A   B\n",
      "0   7  40\n",
      "1  16  55\n",
      "2  27  72\n"
     ]
    }
   ],
   "source": [
    "# Multiplication using the mul() method:\n",
    "import pandas as pd \n",
    "df1 = pd.DataFrame({'A': [1, 2, 3],'B': [4, 5, 6]})\n",
    "df2 = pd.DataFrame({'A': [7, 8, 9],'B': [10, 11, 12]})\n",
    "e=df1*df2\n",
    "print(e)\n",
    "f=df1.mul(df2) # Alternative method\n",
    "print(e)"
   ]
  },
  {
   "cell_type": "code",
   "execution_count": 35,
   "id": "0bc58b72-4059-49f4-9661-fc18d1f11f43",
   "metadata": {},
   "outputs": [
    {
     "name": "stdout",
     "output_type": "stream",
     "text": [
      "          A         B\n",
      "0  0.142857  0.400000\n",
      "1  0.250000  0.454545\n",
      "2  0.333333  0.500000\n",
      "          A         B\n",
      "0  0.142857  0.400000\n",
      "1  0.250000  0.454545\n",
      "2  0.333333  0.500000\n"
     ]
    }
   ],
   "source": [
    "# Division using the div() method\n",
    "import pandas as pd \n",
    "df1 = pd.DataFrame({'A': [1, 2, 3],'B': [4, 5, 6]})\n",
    "df2 = pd.DataFrame({'A': [7, 8, 9],'B': [10, 11, 12]})\n",
    "m=df1/df2\n",
    "print(m)\n",
    "n=df1.div(df2) # Alternative method\n",
    "print(n)"
   ]
  }
 ],
 "metadata": {
  "kernelspec": {
   "display_name": "Python 3 (ipykernel)",
   "language": "python",
   "name": "python3"
  },
  "language_info": {
   "codemirror_mode": {
    "name": "ipython",
    "version": 3
   },
   "file_extension": ".py",
   "mimetype": "text/x-python",
   "name": "python",
   "nbconvert_exporter": "python",
   "pygments_lexer": "ipython3",
   "version": "3.11.7"
  }
 },
 "nbformat": 4,
 "nbformat_minor": 5
}
