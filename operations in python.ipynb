{
 "cells": [
  {
   "cell_type": "code",
   "execution_count": 1,
   "id": "c4734ec5-ce5e-4fe1-8e74-3feaf4d5b8f7",
   "metadata": {},
   "outputs": [],
   "source": [
    "#Arithmatic Operator(+,-,*,/,**(power),%(modulus))\n",
    "#Assingment operaor +=, -=,*=\n",
    "#Comparision Operator(>,<,==,!=,<=,>=)\n",
    "#Logical Operator(And,Or,Not)\n",
    "#Identity Operators(is,is not)\n",
    "#Membership Operators(in,not in)"
   ]
  },
  {
   "cell_type": "code",
   "execution_count": 3,
   "id": "ad8cf464-839d-4eac-90a0-854244cd38e1",
   "metadata": {},
   "outputs": [
    {
     "data": {
      "text/plain": [
       "3.0"
      ]
     },
     "execution_count": 3,
     "metadata": {},
     "output_type": "execute_result"
    }
   ],
   "source": [
    "# Arithmatic Operator(+,-,*,/,**(power),%(modulus))\n",
    "15/5"
   ]
  },
  {
   "cell_type": "code",
   "execution_count": 4,
   "id": "09bd9f97-4ca5-4af7-984f-3144f5d1282b",
   "metadata": {},
   "outputs": [
    {
     "data": {
      "text/plain": [
       "12"
      ]
     },
     "execution_count": 4,
     "metadata": {},
     "output_type": "execute_result"
    }
   ],
   "source": [
    "3*4"
   ]
  },
  {
   "cell_type": "code",
   "execution_count": 6,
   "id": "38e83259-25c9-499c-b747-b700ba9b29b1",
   "metadata": {},
   "outputs": [
    {
     "data": {
      "text/plain": [
       "4"
      ]
     },
     "execution_count": 6,
     "metadata": {},
     "output_type": "execute_result"
    }
   ],
   "source": [
    "12-8"
   ]
  },
  {
   "cell_type": "code",
   "execution_count": 7,
   "id": "8dacf8e5-e1db-4291-804f-0088e727b8c6",
   "metadata": {},
   "outputs": [
    {
     "data": {
      "text/plain": [
       "22"
      ]
     },
     "execution_count": 7,
     "metadata": {},
     "output_type": "execute_result"
    }
   ],
   "source": [
    "10+12"
   ]
  },
  {
   "cell_type": "code",
   "execution_count": 30,
   "id": "e0b1222a-e8a3-4a96-b9f5-da597795089a",
   "metadata": {},
   "outputs": [
    {
     "data": {
      "text/plain": [
       "36"
      ]
     },
     "execution_count": 30,
     "metadata": {},
     "output_type": "execute_result"
    }
   ],
   "source": [
    "6**2"
   ]
  },
  {
   "cell_type": "code",
   "execution_count": 31,
   "id": "05aa92ec-b170-4062-b778-25759fc23eab",
   "metadata": {},
   "outputs": [
    {
     "data": {
      "text/plain": [
       "7"
      ]
     },
     "execution_count": 31,
     "metadata": {},
     "output_type": "execute_result"
    }
   ],
   "source": [
    "7%100"
   ]
  },
  {
   "cell_type": "code",
   "execution_count": 9,
   "id": "c23f94c9-a695-4272-ac28-e16bfe0018e7",
   "metadata": {},
   "outputs": [
    {
     "name": "stdout",
     "output_type": "stream",
     "text": [
      "31\n"
     ]
    }
   ],
   "source": [
    "#Assingment operaor\n",
    "# +=value\n",
    "# -=value\n",
    "# *=value\n",
    "# +*/=value\n",
    "x=25\n",
    "x+=6\n",
    "print(x)"
   ]
  },
  {
   "cell_type": "code",
   "execution_count": 15,
   "id": "116f94df-8a21-4751-a8c8-57cfb576fb88",
   "metadata": {},
   "outputs": [
    {
     "data": {
      "text/plain": [
       "10"
      ]
     },
     "execution_count": 15,
     "metadata": {},
     "output_type": "execute_result"
    }
   ],
   "source": [
    "a=12\n",
    "a-=2\n",
    "a"
   ]
  },
  {
   "cell_type": "code",
   "execution_count": 17,
   "id": "44714e36-26d9-4660-a298-04dceb52e80d",
   "metadata": {},
   "outputs": [],
   "source": [
    "a+=5"
   ]
  },
  {
   "cell_type": "code",
   "execution_count": 18,
   "id": "e050f79d-fab4-49ec-8215-ed6e8eddde8e",
   "metadata": {},
   "outputs": [
    {
     "data": {
      "text/plain": [
       "20"
      ]
     },
     "execution_count": 18,
     "metadata": {},
     "output_type": "execute_result"
    }
   ],
   "source": [
    "a"
   ]
  },
  {
   "cell_type": "code",
   "execution_count": 19,
   "id": "eaf09644-62a3-42c2-b939-09c48816c2c9",
   "metadata": {},
   "outputs": [],
   "source": [
    "a*=2"
   ]
  },
  {
   "cell_type": "code",
   "execution_count": 20,
   "id": "14854fd4-2ada-4975-93f2-5633b57c73b1",
   "metadata": {},
   "outputs": [
    {
     "data": {
      "text/plain": [
       "40"
      ]
     },
     "execution_count": 20,
     "metadata": {},
     "output_type": "execute_result"
    }
   ],
   "source": [
    "a"
   ]
  },
  {
   "cell_type": "code",
   "execution_count": 21,
   "id": "16d0bb22-bf17-4210-bdda-66a553b00a0e",
   "metadata": {},
   "outputs": [],
   "source": [
    "a/=4"
   ]
  },
  {
   "cell_type": "code",
   "execution_count": 22,
   "id": "774edebb-77ae-47d4-a39b-977d504d1d0a",
   "metadata": {},
   "outputs": [
    {
     "data": {
      "text/plain": [
       "10.0"
      ]
     },
     "execution_count": 22,
     "metadata": {},
     "output_type": "execute_result"
    }
   ],
   "source": [
    "a"
   ]
  },
  {
   "cell_type": "code",
   "execution_count": 23,
   "id": "9133dd69-5df2-42c7-aebc-a287a0f712ba",
   "metadata": {},
   "outputs": [
    {
     "data": {
      "text/plain": [
       "False"
      ]
     },
     "execution_count": 23,
     "metadata": {},
     "output_type": "execute_result"
    }
   ],
   "source": [
    "#comparision Operators\n",
    "3!=3"
   ]
  },
  {
   "cell_type": "code",
   "execution_count": 24,
   "id": "efc2f8d9-e054-4cf4-8040-4ee355ed2b34",
   "metadata": {},
   "outputs": [
    {
     "data": {
      "text/plain": [
       "True"
      ]
     },
     "execution_count": 24,
     "metadata": {},
     "output_type": "execute_result"
    }
   ],
   "source": [
    "8<=8"
   ]
  },
  {
   "cell_type": "code",
   "execution_count": 25,
   "id": "bca394ce-f4e4-4cfa-9200-7aca2402c33f",
   "metadata": {},
   "outputs": [
    {
     "data": {
      "text/plain": [
       "True"
      ]
     },
     "execution_count": 25,
     "metadata": {},
     "output_type": "execute_result"
    }
   ],
   "source": [
    "8==8"
   ]
  },
  {
   "cell_type": "code",
   "execution_count": 26,
   "id": "6f9bebc3-125f-40be-9b01-db568451340b",
   "metadata": {},
   "outputs": [
    {
     "data": {
      "text/plain": [
       "True"
      ]
     },
     "execution_count": 26,
     "metadata": {},
     "output_type": "execute_result"
    }
   ],
   "source": [
    "8!=5"
   ]
  },
  {
   "cell_type": "code",
   "execution_count": 27,
   "id": "443a17a2-3c55-4c35-ab0e-715d928d7069",
   "metadata": {},
   "outputs": [
    {
     "data": {
      "text/plain": [
       "True"
      ]
     },
     "execution_count": 27,
     "metadata": {},
     "output_type": "execute_result"
    }
   ],
   "source": [
    "#Logical Operator\n",
    "#And-Returns True if both statements are true\n",
    "x=5;\n",
    "x<6 or X<3"
   ]
  },
  {
   "cell_type": "code",
   "execution_count": 28,
   "id": "3e4a98c2-0df2-4a57-9dd8-48af519e05f6",
   "metadata": {},
   "outputs": [
    {
     "data": {
      "text/plain": [
       "True"
      ]
     },
     "execution_count": 28,
     "metadata": {},
     "output_type": "execute_result"
    }
   ],
   "source": [
    "#Or-Returns True if one of the statements is true\n",
    "x=5\n",
    "x<4 or x<7"
   ]
  },
  {
   "cell_type": "code",
   "execution_count": 29,
   "id": "46aaf4bd-224b-457f-a326-614e05d577d9",
   "metadata": {},
   "outputs": [
    {
     "data": {
      "text/plain": [
       "True"
      ]
     },
     "execution_count": 29,
     "metadata": {},
     "output_type": "execute_result"
    }
   ],
   "source": [
    "#not-Reverse the result, returns False if the result is true\n",
    "x=5;\n",
    "not(x<6 and x<1)"
   ]
  },
  {
   "cell_type": "code",
   "execution_count": 32,
   "id": "a7c371a5-123f-4f6d-9c0f-086345d79b66",
   "metadata": {},
   "outputs": [],
   "source": [
    "#Identity Operators\n",
    "x=25"
   ]
  },
  {
   "cell_type": "code",
   "execution_count": 39,
   "id": "23607d0a-23a8-4ded-b75a-b8fa45f29d07",
   "metadata": {},
   "outputs": [
    {
     "name": "stderr",
     "output_type": "stream",
     "text": [
      "<>:1: SyntaxWarning: \"is\" with a literal. Did you mean \"==\"?\n",
      "<>:1: SyntaxWarning: \"is\" with a literal. Did you mean \"==\"?\n",
      "C:\\Users\\prata\\AppData\\Local\\Temp\\ipykernel_292\\1796401385.py:1: SyntaxWarning: \"is\" with a literal. Did you mean \"==\"?\n",
      "  x is 25\n"
     ]
    },
    {
     "data": {
      "text/plain": [
       "True"
      ]
     },
     "execution_count": 39,
     "metadata": {},
     "output_type": "execute_result"
    }
   ],
   "source": [
    "x is 25"
   ]
  },
  {
   "cell_type": "code",
   "execution_count": 40,
   "id": "69ecb227-1479-47a6-be2f-8d71bcf30735",
   "metadata": {},
   "outputs": [
    {
     "name": "stderr",
     "output_type": "stream",
     "text": [
      "<>:1: SyntaxWarning: \"is not\" with a literal. Did you mean \"!=\"?\n",
      "<>:1: SyntaxWarning: \"is not\" with a literal. Did you mean \"!=\"?\n",
      "C:\\Users\\prata\\AppData\\Local\\Temp\\ipykernel_292\\2888824720.py:1: SyntaxWarning: \"is not\" with a literal. Did you mean \"!=\"?\n",
      "  x is not 25\n"
     ]
    },
    {
     "data": {
      "text/plain": [
       "False"
      ]
     },
     "execution_count": 40,
     "metadata": {},
     "output_type": "execute_result"
    }
   ],
   "source": [
    "x is not 25"
   ]
  },
  {
   "cell_type": "code",
   "execution_count": 41,
   "id": "4544849e-5bd0-4e3a-bc5d-93540b23aae5",
   "metadata": {},
   "outputs": [],
   "source": [
    "#Membership Operators \n",
    "x=(2,24,13,54)"
   ]
  },
  {
   "cell_type": "code",
   "execution_count": 42,
   "id": "2d17b458-2597-46e7-b59f-4636b5b72ffe",
   "metadata": {},
   "outputs": [
    {
     "data": {
      "text/plain": [
       "False"
      ]
     },
     "execution_count": 42,
     "metadata": {},
     "output_type": "execute_result"
    }
   ],
   "source": [
    "24 not in x"
   ]
  },
  {
   "cell_type": "code",
   "execution_count": 43,
   "id": "285b0ce9-315e-4c6f-9951-d6f824f1d04a",
   "metadata": {},
   "outputs": [
    {
     "data": {
      "text/plain": [
       "True"
      ]
     },
     "execution_count": 43,
     "metadata": {},
     "output_type": "execute_result"
    }
   ],
   "source": [
    "13 in x"
   ]
  }
 ],
 "metadata": {
  "kernelspec": {
   "display_name": "Python 3 (ipykernel)",
   "language": "python",
   "name": "python3"
  },
  "language_info": {
   "codemirror_mode": {
    "name": "ipython",
    "version": 3
   },
   "file_extension": ".py",
   "mimetype": "text/x-python",
   "name": "python",
   "nbconvert_exporter": "python",
   "pygments_lexer": "ipython3",
   "version": "3.11.7"
  }
 },
 "nbformat": 4,
 "nbformat_minor": 5
}
