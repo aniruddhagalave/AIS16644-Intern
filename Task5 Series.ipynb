{
 "cells": [
  {
   "cell_type": "markdown",
   "id": "a96efc23-94e8-4b7d-9a4d-8da7584e1a52",
   "metadata": {},
   "source": [
    "#Series\n",
    "A Pandas Series is like a column in a table.\n",
    "It is a one-dimensional array holding data of any type."
   ]
  },
  {
   "cell_type": "code",
   "execution_count": 1,
   "id": "8d85d819-acd4-4ce7-a45e-3414099e4c17",
   "metadata": {},
   "outputs": [
    {
     "name": "stdout",
     "output_type": "stream",
     "text": [
      "0    7\n",
      "1    8\n",
      "2    9\n",
      "dtype: int64\n"
     ]
    }
   ],
   "source": [
    "#Example\n",
    "#Create a simple Pandas Series from a list:\n",
    "\n",
    "import pandas as pd\n",
    "\n",
    "a = [7,8,9]\n",
    "\n",
    "myvar = pd.Series(a)\n",
    "\n",
    "print(myvar)"
   ]
  },
  {
   "cell_type": "code",
   "execution_count": 2,
   "id": "04c20594-9b16-490a-8aaf-d5101d0f567c",
   "metadata": {},
   "outputs": [],
   "source": [
    "#Labels\n",
    "#If nothing else is specified, the values are labeled with their index number. First value has index 0, second value has index 1 etc.\n",
    "#This label can be used to access a specified value."
   ]
  },
  {
   "cell_type": "code",
   "execution_count": 3,
   "id": "02d54742-7dca-490c-827b-af587fafe404",
   "metadata": {},
   "outputs": [
    {
     "name": "stdout",
     "output_type": "stream",
     "text": [
      "7\n"
     ]
    }
   ],
   "source": [
    "#Example\n",
    "#Return the first value of the Series:\n",
    "import pandas as pd\n",
    "\n",
    "a = [7,8,9]\n",
    "\n",
    "myvar = pd.Series(a)\n",
    "\n",
    "print(myvar[0])\n"
   ]
  },
  {
   "cell_type": "code",
   "execution_count": 4,
   "id": "19d73a8b-8787-4ae0-a145-ae3bda579d06",
   "metadata": {},
   "outputs": [],
   "source": [
    "#Create Labels\n",
    "#With the index argument, you can name your own labels."
   ]
  },
  {
   "cell_type": "code",
   "execution_count": 5,
   "id": "6999f621-6c5a-4d2f-a43c-131ceed5d18a",
   "metadata": {},
   "outputs": [
    {
     "name": "stdout",
     "output_type": "stream",
     "text": [
      "x    1\n",
      "y    3\n",
      "z    5\n",
      "W    7\n",
      "dtype: int64\n"
     ]
    }
   ],
   "source": [
    "#Example\n",
    "#Create your own labels:\n",
    "\n",
    "import pandas as pd\n",
    "\n",
    "a = [1,3,5,7]\n",
    "\n",
    "myvar = pd.Series(a, index = [\"x\", \"y\", \"z\",\"W\"])\n",
    "\n",
    "print(myvar)"
   ]
  },
  {
   "cell_type": "code",
   "execution_count": 6,
   "id": "a6a6c200-677f-4257-82ad-d1db1cbfa76b",
   "metadata": {},
   "outputs": [
    {
     "name": "stdout",
     "output_type": "stream",
     "text": [
      "3\n"
     ]
    }
   ],
   "source": [
    "#Example\n",
    "#Return the value of \"y\":\n",
    "import pandas as pd\n",
    "\n",
    "a = [1,3,5,7]\n",
    "\n",
    "myvar = pd.Series(a, index = [\"x\", \"y\", \"z\",\"W\"])\n",
    "\n",
    "print(myvar[\"y\"])"
   ]
  },
  {
   "cell_type": "code",
   "execution_count": 7,
   "id": "1b432d63-afd2-40bc-a312-37bed6d49257",
   "metadata": {},
   "outputs": [],
   "source": [
    "# Key/Value Objects as Series\n",
    "# use a key/value object, like a dictionary, when creating a Series."
   ]
  },
  {
   "cell_type": "code",
   "execution_count": 10,
   "id": "6b5abae6-2427-46b8-8612-88ab31cca4aa",
   "metadata": {},
   "outputs": [
    {
     "name": "stdout",
     "output_type": "stream",
     "text": [
      "day1    420\n",
      "day2    380\n",
      "dtype: int64\n"
     ]
    }
   ],
   "source": [
    "# Example\n",
    "# Create a Series using only data from \"day1\" and \"day2\":\n",
    "\n",
    "import pandas as pd\n",
    "\n",
    "calories = {\"day1\": 420, \"day2\": 380, \"day3\": 390}\n",
    "\n",
    "myvar = pd.Series(calories, index = [\"day1\", \"day2\"])\n",
    "\n",
    "print(myvar)"
   ]
  },
  {
   "cell_type": "code",
   "execution_count": 13,
   "id": "54db882b-773c-4ac8-b0fe-f753c1f2ebfe",
   "metadata": {},
   "outputs": [
    {
     "name": "stdout",
     "output_type": "stream",
     "text": [
      "b    2\n",
      "c    3\n",
      "d    4\n",
      "dtype: int64\n",
      "b    2\n",
      "c    3\n",
      "d    4\n",
      "dtype: int64\n"
     ]
    }
   ],
   "source": [
    "# Operation\n",
    "# slicing\n",
    "import pandas as pd\n",
    "\n",
    "s = pd.Series([1, 2, 3, 4, 5], index=['a', 'b', 'c', 'd', 'e'])\n",
    "\n",
    "# Slicing by labels\n",
    "print(s['b':'d'])\n",
    "\n",
    "# Slicing by position\n",
    "print(s[1:4])    \n"
   ]
  },
  {
   "cell_type": "code",
   "execution_count": 17,
   "id": "c3e74f87-3b0f-49c6-9564-c30027edb2d9",
   "metadata": {},
   "outputs": [
    {
     "name": "stdout",
     "output_type": "stream",
     "text": [
      "0    9\n",
      "1    9\n",
      "2    9\n",
      "3    9\n",
      "dtype: int64\n",
      "0     2\n",
      "1     6\n",
      "2    10\n",
      "3    14\n",
      "dtype: int64\n",
      "0    24\n",
      "1    18\n",
      "2    12\n",
      "3     6\n",
      "dtype: int64\n"
     ]
    }
   ],
   "source": [
    "# Arithmetic operations\n",
    "s1 = pd.Series([1,3,5,7])\n",
    "s2 = pd.Series([8,6,4,2])\n",
    "# Element-wise addition\n",
    "print(s1 + s2)\n",
    "# Scalar multiplication\n",
    "print(s1 * 2) \n",
    "print(s2*3)\n"
   ]
  },
  {
   "cell_type": "code",
   "execution_count": 18,
   "id": "13f2005c-23d2-46da-823d-d80cbc951cd6",
   "metadata": {},
   "outputs": [
    {
     "name": "stdout",
     "output_type": "stream",
     "text": [
      "0    False\n",
      "1     True\n",
      "2     True\n",
      "3     True\n",
      "dtype: bool\n"
     ]
    }
   ],
   "source": [
    "# Boolean operations\n",
    "# Element-wise comparison\n",
    "print(s1 > 2)  \n",
    "s1 = pd.Series([1,3,5,7])"
   ]
  },
  {
   "cell_type": "code",
   "execution_count": 21,
   "id": "4dce5cd3-ef96-4722-96b4-043a87e80c28",
   "metadata": {},
   "outputs": [
    {
     "name": "stdout",
     "output_type": "stream",
     "text": [
      "16\n",
      "4.0\n",
      "1\n",
      "7\n"
     ]
    }
   ],
   "source": [
    "#Aggregation and Reduction:\n",
    "s = pd.Series([1,3,5,7])\n",
    "print(s.sum())   # Sum of all elements\n",
    "print(s.mean())  # Mean of all elements\n",
    "print(s.min())   # Minimum value\n",
    "print(s.max())   # Maximum value"
   ]
  },
  {
   "cell_type": "code",
   "execution_count": 24,
   "id": "e3b38fcb-276f-4f8d-9e6c-0f8313d2ec90",
   "metadata": {},
   "outputs": [
    {
     "name": "stdout",
     "output_type": "stream",
     "text": [
      "0     5\n",
      "1     6\n",
      "3     7\n",
      "2     8\n",
      "4    10\n",
      "5    12\n",
      "dtype: int64\n",
      "0     5\n",
      "1     6\n",
      "2     8\n",
      "3     7\n",
      "4    10\n",
      "5    12\n",
      "dtype: int64\n",
      "0    1.0\n",
      "1    2.0\n",
      "2    4.0\n",
      "3    3.0\n",
      "4    5.0\n",
      "5    6.0\n",
      "dtype: float64\n"
     ]
    }
   ],
   "source": [
    "# Sorting and Ranking:\n",
    "s = pd.Series([5,6,8,7,10,12])\n",
    "# Sorting by values\n",
    "print(s.sort_values())\n",
    "\n",
    "# Sorting by index\n",
    "print(s.sort_index())\n",
    "\n",
    "# Ranking\n",
    "print(s.rank())"
   ]
  },
  {
   "cell_type": "code",
   "execution_count": 26,
   "id": "03e1b30f-10e5-4109-829b-c2c0f7d40e18",
   "metadata": {},
   "outputs": [
    {
     "name": "stdout",
     "output_type": "stream",
     "text": [
      "0    False\n",
      "1    False\n",
      "2     True\n",
      "3    False\n",
      "4    False\n",
      "dtype: bool\n",
      "0    1.0\n",
      "1    2.0\n",
      "2    0.0\n",
      "3    4.0\n",
      "4    5.0\n",
      "dtype: float64\n"
     ]
    }
   ],
   "source": [
    "# Handling Missing Data\n",
    "s = pd.Series([1, 2, None, 4, 5])\n",
    "# Check for missing values\n",
    "print(s.isnull())\n",
    "# Fill missing values with a specific value\n",
    "print(s.fillna(0))"
   ]
  },
  {
   "cell_type": "code",
   "execution_count": 28,
   "id": "6116ff74-f22e-439e-8010-bfc0b4629ff4",
   "metadata": {},
   "outputs": [
    {
     "name": "stdout",
     "output_type": "stream",
     "text": [
      "0    1.0\n",
      "1    2.0\n",
      "2    3.0\n",
      "3    4.0\n",
      "dtype: float64\n"
     ]
    }
   ],
   "source": [
    "#Element-wise Functions:\n",
    "import pandas as pd\n",
    "# Creating a Series object\n",
    "s = pd.Series([1,4,9,16])\n",
    "print(s**0.5)"
   ]
  },
  {
   "cell_type": "code",
   "execution_count": null,
   "id": "d8522c0a-4376-4cd9-83c6-247e2bca13cb",
   "metadata": {},
   "outputs": [],
   "source": []
  }
 ],
 "metadata": {
  "kernelspec": {
   "display_name": "Python 3 (ipykernel)",
   "language": "python",
   "name": "python3"
  },
  "language_info": {
   "codemirror_mode": {
    "name": "ipython",
    "version": 3
   },
   "file_extension": ".py",
   "mimetype": "text/x-python",
   "name": "python",
   "nbconvert_exporter": "python",
   "pygments_lexer": "ipython3",
   "version": "3.11.7"
  }
 },
 "nbformat": 4,
 "nbformat_minor": 5
}
