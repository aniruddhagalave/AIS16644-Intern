{
 "cells": [
  {
   "cell_type": "code",
   "execution_count": 1,
   "id": "024b58e4-23f4-49a3-a0cd-4871c09c4cf2",
   "metadata": {},
   "outputs": [],
   "source": [
    "# Identifying Missing Values: identify missing values in a DataFrame using the isna() method."
   ]
  },
  {
   "cell_type": "code",
   "execution_count": 2,
   "id": "ff7a9ea6-5b5f-4287-959c-975d21ce0baf",
   "metadata": {},
   "outputs": [
    {
     "name": "stdout",
     "output_type": "stream",
     "text": [
      "       A      B\n",
      "0  False   True\n",
      "1  False  False\n",
      "2   True  False\n",
      "3  False  False\n"
     ]
    }
   ],
   "source": [
    "# Example\n",
    "import pandas as pd\n",
    "data = {'A': [1, 2, None, 4],'B': [None, 5, 6, 7]}\n",
    "df = pd.DataFrame(data)\n",
    "missing_values = df.isna()\n",
    "print(missing_values)"
   ]
  },
  {
   "cell_type": "code",
   "execution_count": 4,
   "id": "bd7d66de-97f9-43dc-8325-a2e854756d72",
   "metadata": {},
   "outputs": [],
   "source": [
    "# Handling Missing Values: remove rows or columns containing missing values using dropna() method. "
   ]
  },
  {
   "cell_type": "code",
   "execution_count": 7,
   "id": "f1e8873c-6b6c-411e-9d40-12a21c826f58",
   "metadata": {},
   "outputs": [
    {
     "name": "stdout",
     "output_type": "stream",
     "text": [
      "     A    B\n",
      "1  2.0  5.0\n",
      "3  4.0  7.0\n",
      "Empty DataFrame\n",
      "Columns: []\n",
      "Index: [0, 1, 2, 3]\n"
     ]
    }
   ],
   "source": [
    "# Example\n",
    "import pandas as pd\n",
    "data = {'A': [1, 2, None, 4],'B': [None, 5, 6, 7]}\n",
    "df = pd.DataFrame(data)\n",
    "a=df.dropna() # Remove rows with missing values\n",
    "print(a)\n",
    "b=df.dropna(axis=1) # Remove column with missing values\n",
    "print(b)"
   ]
  },
  {
   "cell_type": "code",
   "execution_count": 8,
   "id": "c74dc4a8-2085-415a-bfde-4cf36f7dd5f0",
   "metadata": {},
   "outputs": [],
   "source": [
    "# Filling Missing Values: using fillna() method"
   ]
  },
  {
   "cell_type": "code",
   "execution_count": 9,
   "id": "ecfcf0b7-db52-4c9c-8a04-ac1725d80982",
   "metadata": {},
   "outputs": [
    {
     "name": "stdout",
     "output_type": "stream",
     "text": [
      "     A    B\n",
      "0  1.0  0.0\n",
      "1  2.0  5.0\n",
      "2  0.0  6.0\n",
      "3  4.0  7.0\n"
     ]
    }
   ],
   "source": [
    "# Example\n",
    "import pandas as pd\n",
    "data = {'A': [1, 2, None, 4],'B': [None, 5, 6, 7]}\n",
    "df = pd.DataFrame(data)\n",
    "df_filled = df.fillna(0)  # Fill with 0\n",
    "print(df_filled)"
   ]
  },
  {
   "cell_type": "code",
   "execution_count": 10,
   "id": "94f4a80c-f898-4dbe-8a55-ff213a24352d",
   "metadata": {},
   "outputs": [
    {
     "name": "stdout",
     "output_type": "stream",
     "text": [
      "          A    B\n",
      "0  1.000000  6.0\n",
      "1  2.000000  5.0\n",
      "2  2.333333  6.0\n",
      "3  4.000000  7.0\n"
     ]
    }
   ],
   "source": [
    "# Fill missing values with mean\n",
    "df_filled = df.fillna(df.mean())  # Fill with mean of each column\n",
    "print(df_filled)"
   ]
  },
  {
   "cell_type": "code",
   "execution_count": 11,
   "id": "86e351b5-3f93-45d2-ba3d-39febb3179eb",
   "metadata": {},
   "outputs": [
    {
     "name": "stdout",
     "output_type": "stream",
     "text": [
      "     A    B\n",
      "0  1.0  6.0\n",
      "1  2.0  5.0\n",
      "2  2.0  6.0\n",
      "3  4.0  7.0\n"
     ]
    }
   ],
   "source": [
    "# Fill missing values with median\n",
    "df_filled = df.fillna(df.median())\n",
    "print(df_filled)"
   ]
  },
  {
   "cell_type": "code",
   "execution_count": null,
   "id": "b6b3a7ac-01a9-490c-9986-0ffe705b5b13",
   "metadata": {},
   "outputs": [],
   "source": []
  }
 ],
 "metadata": {
  "kernelspec": {
   "display_name": "Python 3 (ipykernel)",
   "language": "python",
   "name": "python3"
  },
  "language_info": {
   "codemirror_mode": {
    "name": "ipython",
    "version": 3
   },
   "file_extension": ".py",
   "mimetype": "text/x-python",
   "name": "python",
   "nbconvert_exporter": "python",
   "pygments_lexer": "ipython3",
   "version": "3.11.7"
  }
 },
 "nbformat": 4,
 "nbformat_minor": 5
}
