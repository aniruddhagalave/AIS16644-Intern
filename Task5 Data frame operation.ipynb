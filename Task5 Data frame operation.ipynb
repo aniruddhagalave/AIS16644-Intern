{
 "cells": [
  {
   "cell_type": "code",
   "execution_count": 1,
   "id": "e8a92f97-b11e-4de1-ae97-0a531917be0e",
   "metadata": {},
   "outputs": [],
   "source": [
    "# Data frame operations\n",
    "# DataFrame operations in pandas cover a wide range of functionalities for data manipulation and analysis."
   ]
  },
  {
   "cell_type": "code",
   "execution_count": 40,
   "id": "69bfe84c-54e7-4627-a7e5-bcce3338c2d6",
   "metadata": {},
   "outputs": [
    {
     "name": "stdout",
     "output_type": "stream",
     "text": [
      "C\n",
      "Apple     2\n",
      "Banana    2\n",
      "orange    1\n",
      "Name: count, dtype: int64\n"
     ]
    }
   ],
   "source": [
    "# Value count():Counting the occurrences of unique value in a column.\n",
    "import pandas as pd \n",
    "data={'A':[1,2,3,4,5],'B':[5,4,3,2,1],'C':['Apple','Banana','Apple','orange','Banana']}\n",
    "df=pd.DataFrame(data)\n",
    "value_counts=df['C'].value_counts()\n",
    "print(value_counts)"
   ]
  },
  {
   "cell_type": "code",
   "execution_count": 41,
   "id": "1064392d-8cfc-47ea-ada2-246531bbf584",
   "metadata": {},
   "outputs": [
    {
     "name": "stdout",
     "output_type": "stream",
     "text": [
      "0    1\n",
      "1    2\n",
      "2    3\n",
      "3    4\n",
      "4    5\n",
      "Name: Number, dtype: int64\n"
     ]
    }
   ],
   "source": [
    "# Apply():Appling the function along the axis of dataframe.\n",
    "import pandas as pd \n",
    "data={'Number':[1,2,3,4,5]}\n",
    "df=pd.DataFrame(data)\n",
    "def string_to_int(x):\n",
    "   return int(x)\n",
    "df['Number']=df['Number'].apply(string_to_int)\n",
    "print(df['Number'])"
   ]
  },
  {
   "cell_type": "code",
   "execution_count": 42,
   "id": "47debe69-e7f9-4bb7-8f78-2047b2b7baea",
   "metadata": {},
   "outputs": [
    {
     "name": "stdout",
     "output_type": "stream",
     "text": [
      "[1 3 7]\n",
      "['x' 'y' 'z']\n"
     ]
    }
   ],
   "source": [
    "# Unique(): Getting unique values in column.\n",
    "import pandas as pd\n",
    "data={'A':[1,3,7,1,3,7],'B':['x','y','z','x','y','z']}\n",
    "df=pd.DataFrame(data)\n",
    "unique_value_A=df['A'].unique()\n",
    "print(unique_value_A)\n",
    "unique_value_B=df['B'].unique()\n",
    "print(unique_value_B)"
   ]
  },
  {
   "cell_type": "code",
   "execution_count": 43,
   "id": "40baac62-93a0-4d83-bfd9-c642b5717b2e",
   "metadata": {},
   "outputs": [
    {
     "name": "stdout",
     "output_type": "stream",
     "text": [
      "3\n",
      "3\n"
     ]
    }
   ],
   "source": [
    "# nunique(): Counting the number of unique value in column\n",
    "import pandas as pd\n",
    "data={'A':[1,4,3,1,4,3],'B':['x','y','z','x','y','z']}\n",
    "df=pd.DataFrame(data)\n",
    "num_unique_A=df['A'].nunique()\n",
    "print(num_unique_A)\n",
    "num_unique_B=df['B'].nunique()\n",
    "print(num_unique_B)"
   ]
  },
  {
   "cell_type": "code",
   "execution_count": 44,
   "id": "e2cfc419-47c2-4bcb-b047-f7cc684f0209",
   "metadata": {},
   "outputs": [
    {
     "name": "stdout",
     "output_type": "stream",
     "text": [
      "              A          B\n",
      "count  5.000000   5.000000\n",
      "mean   3.000000  30.000000\n",
      "std    1.581139  15.811388\n",
      "min    1.000000  10.000000\n",
      "25%    2.000000  20.000000\n",
      "50%    3.000000  30.000000\n",
      "75%    4.000000  40.000000\n",
      "max    5.000000  50.000000\n"
     ]
    }
   ],
   "source": [
    "# Describe():Generate descriptive statistics of the numerical columns in a DataFrame.\n",
    "import pandas as pd\n",
    "data = {'A': [1, 2, 3, 4, 5],'B': [10, 20, 30, 40, 50]}\n",
    "df = pd.DataFrame(data)\n",
    "describe = df.describe()\n",
    "print(describe)"
   ]
  },
  {
   "cell_type": "code",
   "execution_count": 48,
   "id": "a1fcb756-b7fc-4269-887b-335d647dfdc0",
   "metadata": {},
   "outputs": [
    {
     "name": "stdout",
     "output_type": "stream",
     "text": [
      "  student  maths  phy  chem\n",
      "2      ac     75   95    65\n",
      "4      pd     77   55    93\n",
      "0      om     80   70    78\n",
      "1      rk     90   88    82\n",
      "3      ag     95   65    85\n"
     ]
    }
   ],
   "source": [
    "# Sorting():sort dataframe based on one or more columns.\n",
    "import pandas as pd\n",
    "data={'student':['om','rk','ac','ag','pd'],'maths':[80,90,75,95,77],'phy':[70,88,95,65,55],'chem':[78,82,65,85,93]}\n",
    "df=pd.DataFrame(data)\n",
    "sorted_df=df.sort_values(by='maths',ascending=True)\n",
    "print(sorted_df)"
   ]
  },
  {
   "cell_type": "code",
   "execution_count": 51,
   "id": "c37e848e-5e54-4664-b650-d9345e3f891d",
   "metadata": {},
   "outputs": [
    {
     "name": "stdout",
     "output_type": "stream",
     "text": [
      "0    3.0\n",
      "1    2.0\n",
      "2    5.0\n",
      "3    1.0\n",
      "4    4.0\n",
      "Name: score, dtype: float64\n"
     ]
    }
   ],
   "source": [
    "# rank(): indicating rank\n",
    "import pandas as pd\n",
    "data={'student':['om','rk','ac','ag','pd'],'score':[80,90,75,95,77]}\n",
    "df=pd.DataFrame(data)\n",
    "rank_df=df['score'].rank(ascending=False)\n",
    "print(rank_df)\n"
   ]
  },
  {
   "cell_type": "code",
   "execution_count": null,
   "id": "0991b829-cfd6-4943-baec-692417174796",
   "metadata": {},
   "outputs": [],
   "source": []
  }
 ],
 "metadata": {
  "kernelspec": {
   "display_name": "Python 3 (ipykernel)",
   "language": "python",
   "name": "python3"
  },
  "language_info": {
   "codemirror_mode": {
    "name": "ipython",
    "version": 3
   },
   "file_extension": ".py",
   "mimetype": "text/x-python",
   "name": "python",
   "nbconvert_exporter": "python",
   "pygments_lexer": "ipython3",
   "version": "3.11.7"
  }
 },
 "nbformat": 4,
 "nbformat_minor": 5
}
