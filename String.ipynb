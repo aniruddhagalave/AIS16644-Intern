{
 "cells": [
  {
   "cell_type": "code",
   "execution_count": null,
   "id": "2313fd1b-455e-40d6-96da-01ba35eab32b",
   "metadata": {},
   "outputs": [],
   "source": [
    "#Strings\n",
    "#Strings in python are surrounded by either single quotation marks, or double quotation marks\n",
    "\n",
    "#'Hi' is the same as \"Hi\".\n",
    "\n",
    "#A string literal with the print() function\n",
    "\n",
    "print(\"Hi\")\n",
    "print('Hi')"
   ]
  },
  {
   "cell_type": "code",
   "execution_count": 5,
   "id": "e9e72395-a43e-41c1-9faf-46f55d428cf8",
   "metadata": {},
   "outputs": [
    {
     "name": "stdout",
     "output_type": "stream",
     "text": [
      "It's alright\n",
      "He is called 'Maddy'\n",
      "He is called \"Maddy\"\n"
     ]
    }
   ],
   "source": [
    "#Quotes Inside Quotes\n",
    "#quotes inside a string, as long as they don't match the quotes surrounding the string\n",
    "\n",
    "#Example\n",
    "print(\"It's alright\")\n",
    "print(\"He is called 'Maddy'\")\n",
    "print('He is called \"Maddy\"')"
   ]
  },
  {
   "cell_type": "code",
   "execution_count": 6,
   "id": "ae11c18c-03e9-46c1-a6fc-e342a82dbb71",
   "metadata": {},
   "outputs": [
    {
     "name": "stdout",
     "output_type": "stream",
     "text": [
      "Hi\n"
     ]
    }
   ],
   "source": [
    "#Assign String to a Variable\n",
    "#Assigning a string to a variable is done with the variable name followed by an equal sign and the string\n",
    "\n",
    "#Example\n",
    "a = \"Hi\"\n",
    "print(a)"
   ]
  },
  {
   "cell_type": "code",
   "execution_count": 9,
   "id": "ceebf167-428d-4065-ba03-b408465fc9e6",
   "metadata": {},
   "outputs": [
    {
     "name": "stdout",
     "output_type": "stream",
     "text": [
      "Lorem ipsum dolor sit amet,\n",
      "consectetur adipiscing elit,\n",
      "sed do eiusmod tempor incididunt\n",
      "ut labore et dolore magna aliqua.\n"
     ]
    }
   ],
   "source": [
    "#Multiline Strings\n",
    "#Multiline string to a variable by using three quotes\n",
    "\n",
    "#Example\n",
    "\n",
    "a = \"\"\"Lorem ipsum dolor sit amet,\n",
    "consectetur adipiscing elit,\n",
    "sed do eiusmod tempor incididunt\n",
    "ut labore et dolore magna aliqua.\"\"\"\n",
    "print(a)"
   ]
  },
  {
   "cell_type": "markdown",
   "id": "3bff4a03-73f3-47bf-acba-a4f7125f9014",
   "metadata": {},
   "source": [
    "#Strings are Arrays\n",
    "#strings in Python are arrays of bytes representing unicode characters However, Python does not have a character data type, a single character is simply a string with a length of 1\n",
    "#Square brackets can be used to access elements of the string\n"
   ]
  },
  {
   "cell_type": "code",
   "execution_count": 13,
   "id": "84c5bee6-d261-41e8-94bd-4a6b591e0880",
   "metadata": {},
   "outputs": [
    {
     "name": "stdout",
     "output_type": "stream",
     "text": [
      "l\n"
     ]
    }
   ],
   "source": [
    "#Example\n",
    "#Get the character at position 1 (remember that the first character has the position 0)\n",
    "\n",
    "a = \"Hello, World!\"\n",
    "print(a[2])"
   ]
  },
  {
   "cell_type": "code",
   "execution_count": 14,
   "id": "4de349c7-c8f2-4c8c-82ab-87b791256d96",
   "metadata": {},
   "outputs": [
    {
     "name": "stdout",
     "output_type": "stream",
     "text": [
      "M\n",
      "a\n",
      "n\n",
      "g\n",
      "o\n"
     ]
    }
   ],
   "source": [
    "#Looping Through a String\n",
    "#The characters in a string, with a for loop.\n",
    "\n",
    "#Example\n",
    "#Loop through the letters in the word \"Mango\":\n",
    "\n",
    "for x in \"Mango\":\n",
    "  print(x)"
   ]
  },
  {
   "cell_type": "code",
   "execution_count": 15,
   "id": "3cd28b3d-ce5a-4e9e-9f08-10f30c0cdabd",
   "metadata": {},
   "outputs": [
    {
     "name": "stdout",
     "output_type": "stream",
     "text": [
      "12\n"
     ]
    }
   ],
   "source": [
    "#String Length\n",
    "#the length of a string, use the len() function.\n",
    "\n",
    "#Example\n",
    "#The len() function returns the length of a string:\n",
    "\n",
    "a = \"Hero, World!\"\n",
    "print(len(a))\n"
   ]
  },
  {
   "cell_type": "code",
   "execution_count": 17,
   "id": "25447a49-db8f-4fb7-aaac-911106c7432b",
   "metadata": {},
   "outputs": [
    {
     "name": "stdout",
     "output_type": "stream",
     "text": [
      "True\n"
     ]
    }
   ],
   "source": [
    "#Check String\n",
    "# if a certain phrase or character is present in a string,we use the keyword in.\n",
    "\n",
    "#Example\n",
    "#Check if \"free\" is present in the following text\n",
    "txt = \"The best things in life are free!\"\n",
    "print(\"free\" in txt)"
   ]
  },
  {
   "cell_type": "code",
   "execution_count": 20,
   "id": "8f657257-bb71-4570-87a0-f3c5c073c143",
   "metadata": {},
   "outputs": [
    {
     "name": "stdout",
     "output_type": "stream",
     "text": [
      "Yes, 'free' is present\n"
     ]
    }
   ],
   "source": [
    "#Use it in an if statement\n",
    "\n",
    "#Example\n",
    "Print only if \"free\" is present\n",
    "\n",
    "txt = \"The best things in life are free!\"\n",
    "if \"free\" in txt:\n",
    "  print(\"Yes, 'free' is present.\")"
   ]
  },
  {
   "cell_type": "code",
   "execution_count": 23,
   "id": "cdcc347d-0676-435e-ad46-32a41febe8d6",
   "metadata": {},
   "outputs": [
    {
     "name": "stdout",
     "output_type": "stream",
     "text": [
      "True\n"
     ]
    }
   ],
   "source": [
    "#Check if NOT\n",
    "#To check if a certain phrase or character is NOT present in a string, we can use the keyword not in\n",
    "\n",
    "#Example\n",
    "#Check if \"expensive\" is NOT present in the following text:\n",
    "\n",
    "txt = \"The best things in life are free!\"\n",
    "print(\"expensive\" not in txt)"
   ]
  },
  {
   "cell_type": "code",
   "execution_count": 24,
   "id": "ede3ebc2-8d51-44c3-8a42-3710045ed18d",
   "metadata": {},
   "outputs": [
    {
     "name": "stdout",
     "output_type": "stream",
     "text": [
      "No, 'expensive' is NOT present\n"
     ]
    }
   ],
   "source": [
    "#Use it in an if statement:\n",
    "\n",
    "#Example\n",
    "#print only if \"expensive\" is NOT present:\n",
    "\n",
    "txt = \"The best things in life are free!\"\n",
    "if \"expensive\" not in txt:\n",
    "  print(\"No, 'expensive' is NOT present\")"
   ]
  },
  {
   "cell_type": "code",
   "execution_count": null,
   "id": "b6fe5cae-59a0-4dcf-a2b1-9cf0606e8c7f",
   "metadata": {},
   "outputs": [],
   "source": []
  }
 ],
 "metadata": {
  "kernelspec": {
   "display_name": "Python 3 (ipykernel)",
   "language": "python",
   "name": "python3"
  },
  "language_info": {
   "codemirror_mode": {
    "name": "ipython",
    "version": 3
   },
   "file_extension": ".py",
   "mimetype": "text/x-python",
   "name": "python",
   "nbconvert_exporter": "python",
   "pygments_lexer": "ipython3",
   "version": "3.11.7"
  }
 },
 "nbformat": 4,
 "nbformat_minor": 5
}
