{
 "cells": [
  {
   "cell_type": "code",
   "execution_count": null,
   "id": "3f6792aa-c0c6-44ac-9c55-f9c9bef02979",
   "metadata": {},
   "outputs": [],
   "source": [
    "# If_elif\n",
    "The elif keyword is Python's way of saying \"if the previous conditions were not true, then try this condition\".\n",
    "#Python supports the usual logical conditions from mathematics:\n",
    "\n",
    "Equals: a == b\n",
    "Not Equals: a != b\n",
    "Less than: a < b\n",
    "Less than or equal to: a <= b\n",
    "Greater than: a > b\n",
    "Greater than or equal to: a >= b"
   ]
  },
  {
   "cell_type": "code",
   "execution_count": 1,
   "id": "f11709ae-3542-49be-93e0-00386e229a9b",
   "metadata": {},
   "outputs": [
    {
     "name": "stdout",
     "output_type": "stream",
     "text": [
      "a and b are equal\n"
     ]
    }
   ],
   "source": [
    "#Example1\n",
    "a = 12\n",
    "b = 12\n",
    "if b > a:\n",
    "  print(\"b is greater than a\")\n",
    "elif a == b:\n",
    "  print(\"a and b are equal\")"
   ]
  },
  {
   "cell_type": "code",
   "execution_count": 2,
   "id": "f756bb56-e6d9-4423-b6cc-0020a9d6b03e",
   "metadata": {},
   "outputs": [
    {
     "name": "stdout",
     "output_type": "stream",
     "text": [
      "b is less than a \n"
     ]
    }
   ],
   "source": [
    "#Example2\n",
    "a = 15\n",
    "b = 12\n",
    "if b > a:\n",
    "  print(\"b is greater than a\")\n",
    "elif a > b:\n",
    "  print(\"b is less than a \")"
   ]
  },
  {
   "cell_type": "code",
   "execution_count": 3,
   "id": "a94a6d48-1db3-4014-bad4-36d81b3f3231",
   "metadata": {},
   "outputs": [
    {
     "name": "stdout",
     "output_type": "stream",
     "text": [
      "b is less than equal to a \n"
     ]
    }
   ],
   "source": [
    "#Example3\n",
    "a = 12\n",
    "b = 12\n",
    "if b != a:\n",
    "  print(\"b is not equal to a\")\n",
    "elif a >= b:\n",
    "  print(\"b is less than equal to a \")"
   ]
  },
  {
   "cell_type": "code",
   "execution_count": 4,
   "id": "ab7bbe54-f8f9-4300-bb47-2eb0007ded26",
   "metadata": {},
   "outputs": [
    {
     "name": "stdout",
     "output_type": "stream",
     "text": [
      "b is less than a\n"
     ]
    }
   ],
   "source": [
    "#Example4\n",
    "a = 15\n",
    "b = 12\n",
    "if b <= a:\n",
    "  print(\"b is less than a\")\n",
    "elif a > b:\n",
    "  print(\"b is less than a \")"
   ]
  },
  {
   "cell_type": "code",
   "execution_count": 5,
   "id": "9df9fcd1-6379-4a27-8cf3-484545632186",
   "metadata": {},
   "outputs": [
    {
     "name": "stdout",
     "output_type": "stream",
     "text": [
      "b is less than equal to a \n"
     ]
    }
   ],
   "source": [
    "#Example5\n",
    "a = 11\n",
    "b = 11\n",
    "if b != a:\n",
    "  print(\"a is not equal to b\")\n",
    "elif a >= b:\n",
    "  print(\"b is less than equal to a \")"
   ]
  },
  {
   "cell_type": "code",
   "execution_count": 6,
   "id": "c118a831-3b6b-48bb-bcac-a6915c1e3485",
   "metadata": {},
   "outputs": [
    {
     "name": "stdout",
     "output_type": "stream",
     "text": [
      "b is less than a\n"
     ]
    }
   ],
   "source": [
    "#Example6\n",
    "a = 15\n",
    "b = 12\n",
    "if b < a:\n",
    "  print(\"b is less than a\")\n",
    "elif a > b:\n",
    "  print(\"b is less than a \")"
   ]
  },
  {
   "cell_type": "code",
   "execution_count": 7,
   "id": "982572ff-9306-4b87-8e4c-48a1596b32f8",
   "metadata": {},
   "outputs": [
    {
     "name": "stdout",
     "output_type": "stream",
     "text": [
      "a is less than equal to b \n"
     ]
    }
   ],
   "source": [
    "#Example7\n",
    "a = 21\n",
    "b = 29\n",
    "if b == a:\n",
    "  print(\"a & b are equal\")\n",
    "elif a < b:\n",
    "  print(\"a is less than equal to b \")"
   ]
  },
  {
   "cell_type": "code",
   "execution_count": 8,
   "id": "bdea5fef-ceb3-482e-892a-ad4471656e93",
   "metadata": {},
   "outputs": [
    {
     "name": "stdout",
     "output_type": "stream",
     "text": [
      "a is not equal to a\n"
     ]
    }
   ],
   "source": [
    "#Example8\n",
    "a = 89\n",
    "b = 47\n",
    "if a!= b:\n",
    "  print(\"a is not equal to a\")\n",
    "elif a >= b:\n",
    "  print(\"b is less than equal to a \")"
   ]
  },
  {
   "cell_type": "code",
   "execution_count": 10,
   "id": "72fecfa5-0eb0-4a4c-8bc8-41615c800929",
   "metadata": {},
   "outputs": [
    {
     "name": "stdout",
     "output_type": "stream",
     "text": [
      "b is greater than equal to a\n"
     ]
    }
   ],
   "source": [
    "#Example9\n",
    "a = 114\n",
    "b = 187\n",
    "if b >= a:\n",
    "  print(\"b is greater than equal to a\")\n",
    "elif a < b:\n",
    "  print(\"b is less than a \")"
   ]
  },
  {
   "cell_type": "code",
   "execution_count": 11,
   "id": "cb0f84b6-1a25-4e90-b267-959c969842c4",
   "metadata": {},
   "outputs": [
    {
     "name": "stdout",
     "output_type": "stream",
     "text": [
      "b is greater than a\n"
     ]
    }
   ],
   "source": [
    "#Example10\n",
    "a = 11\n",
    "b = 12\n",
    "if b > a:\n",
    "  print(\"b is greater than a\")\n",
    "elif a != b:\n",
    "  print(\"a is not equal to b\")"
   ]
  },
  {
   "cell_type": "code",
   "execution_count": null,
   "id": "458a7b2e-03fd-4a4d-b2c3-794b31784c77",
   "metadata": {},
   "outputs": [],
   "source": []
  }
 ],
 "metadata": {
  "kernelspec": {
   "display_name": "Python 3 (ipykernel)",
   "language": "python",
   "name": "python3"
  },
  "language_info": {
   "codemirror_mode": {
    "name": "ipython",
    "version": 3
   },
   "file_extension": ".py",
   "mimetype": "text/x-python",
   "name": "python",
   "nbconvert_exporter": "python",
   "pygments_lexer": "ipython3",
   "version": "3.11.7"
  }
 },
 "nbformat": 4,
 "nbformat_minor": 5
}
