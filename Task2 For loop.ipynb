{
 "cells": [
  {
   "cell_type": "markdown",
   "id": "0e0d270c-8403-4325-95a6-1c86c4a181d3",
   "metadata": {},
   "source": [
    "#For Loops\n",
    "A for loop is used for iterating over a sequence (that is either a list, a tuple, a dictionary, a set, or a string).\n",
    "With the for loop we can execute a set of statements, once for each item in a list, tuple, set etc.\n"
   ]
  },
  {
   "cell_type": "code",
   "execution_count": 1,
   "id": "09cdce69-fc86-44e2-8386-fea5c9d6cd02",
   "metadata": {},
   "outputs": [
    {
     "name": "stdout",
     "output_type": "stream",
     "text": [
      "red\n",
      "blue\n",
      "yellow\n"
     ]
    }
   ],
   "source": [
    "#Example\n",
    "#Print each colour in a colour list:\n",
    "\n",
    "colours = [\"red\", \"blue\", \"yellow\"]\n",
    "for x in colours:\n",
    " print(x)"
   ]
  },
  {
   "cell_type": "markdown",
   "id": "b554c8b6-fa27-4a3a-a03d-9b3bd53da685",
   "metadata": {},
   "source": [
    "#The for loop does not require an indexing variable to set beforehand.\n",
    "\n",
    "#Looping Through a String\n",
    "#Even strings are iterable objects, they contain a sequence of characters:\n"
   ]
  },
  {
   "cell_type": "code",
   "execution_count": 2,
   "id": "03f568a0-426f-4379-81d2-49344b62af75",
   "metadata": {},
   "outputs": [
    {
     "name": "stdout",
     "output_type": "stream",
     "text": [
      "Y\n",
      "e\n",
      "l\n",
      "l\n",
      "o\n",
      "w\n"
     ]
    }
   ],
   "source": [
    "#Example\n",
    "#Loop through the letters in the word \"Yellow\":\n",
    "\n",
    "for x in \"Yellow\":\n",
    "  print(x)"
   ]
  },
  {
   "cell_type": "code",
   "execution_count": 3,
   "id": "46a64f8f-4b6e-4f6c-81d8-54d243214dd6",
   "metadata": {},
   "outputs": [
    {
     "name": "stdout",
     "output_type": "stream",
     "text": [
      "red\n"
     ]
    }
   ],
   "source": [
    "#The break Statement\n",
    "#With the break statement we can stop the loop before it has looped through all the items:\n",
    "\n",
    "#Example\n",
    "#Exit the loop when x is \"red\":\n",
    "\n",
    "colours = [\"red\", \"blue\", \"yellow\"]\n",
    "for x in colours:\n",
    "  print(x)\n",
    "  if x == \"red\":\n",
    "    break"
   ]
  },
  {
   "cell_type": "code",
   "execution_count": 4,
   "id": "0d0c562c-6f03-4656-9cfa-697704ee99a7",
   "metadata": {},
   "outputs": [
    {
     "name": "stdout",
     "output_type": "stream",
     "text": [
      "red\n"
     ]
    }
   ],
   "source": [
    "#Example\n",
    "#Exit the loop when x is \"banana\", but this time the break comes before the print:\n",
    "\n",
    "colours = [\"red\", \"blue\", \"yellow\"]\n",
    "for x in colours:\n",
    "  print(x)\n",
    "  if x == \"red\":\n",
    "    break\n",
    "  print(x)"
   ]
  },
  {
   "cell_type": "code",
   "execution_count": 5,
   "id": "27f906d6-8acc-4dc2-8f8f-723eafdfde65",
   "metadata": {},
   "outputs": [
    {
     "name": "stdout",
     "output_type": "stream",
     "text": [
      "blue\n",
      "yellow\n"
     ]
    }
   ],
   "source": [
    "#The continue Statement\n",
    "#With the continue statement we can stop the current iteration of the loop, and continue with the next:\n",
    "\n",
    "#Example\n",
    "#Do not print red:\n",
    "\n",
    "colours = [\"red\", \"blue\", \"yellow\"]\n",
    "for x in colours:\n",
    "  if x == \"red\":\n",
    "    continue\n",
    "  print(x)"
   ]
  },
  {
   "cell_type": "code",
   "execution_count": 6,
   "id": "c9c63c8c-0c03-4541-a64b-d6569b28382f",
   "metadata": {},
   "outputs": [
    {
     "name": "stdout",
     "output_type": "stream",
     "text": [
      "0\n",
      "1\n",
      "2\n",
      "3\n",
      "4\n"
     ]
    }
   ],
   "source": [
    "#The range() Function\n",
    "#To loop through a set of code a specified number of times, we can use the range() function,\n",
    "#The range() function returns a sequence of numbers, starting from 0 by default, and increments by 1 (by default), and ends at a specified number.\n",
    "\n",
    "#Example\n",
    "#Using the range() function:\n",
    "\n",
    "for x in range(5):\n",
    "  print(x)"
   ]
  },
  {
   "cell_type": "code",
   "execution_count": 7,
   "id": "f8c48368-1f6d-40a6-ab86-280b27e6ae64",
   "metadata": {},
   "outputs": [
    {
     "name": "stdout",
     "output_type": "stream",
     "text": [
      "2\n",
      "3\n",
      "4\n",
      "5\n"
     ]
    }
   ],
   "source": [
    "#The range() function defaults to 0 as a starting value\n",
    "#however it is possible to specify the starting value by adding a parameter: range(2, 6), which means values from 2 to 6 (but not including 6):\n",
    "\n",
    "#Example\n",
    "#Using the start parameter:\n",
    "\n",
    "for x in range(2, 6):\n",
    "  print(x)\n"
   ]
  },
  {
   "cell_type": "code",
   "execution_count": 8,
   "id": "2dfa8759-2de8-447f-95f5-313c84ae00b3",
   "metadata": {},
   "outputs": [
    {
     "name": "stdout",
     "output_type": "stream",
     "text": [
      "2\n",
      "5\n",
      "8\n",
      "11\n",
      "14\n",
      "17\n",
      "20\n",
      "23\n",
      "26\n",
      "29\n"
     ]
    }
   ],
   "source": [
    "#The range() function defaults to increment the sequence by 1,\n",
    "#however it is possible to specify the increment value by adding a third parameter: range(2, 30, 3):\n",
    "\n",
    "#Example\n",
    "#Increment the sequence with 3 (default is 1):\n",
    "\n",
    "for x in range(2, 30, 3):\n",
    "  print(x)"
   ]
  }
 ],
 "metadata": {
  "kernelspec": {
   "display_name": "Python 3 (ipykernel)",
   "language": "python",
   "name": "python3"
  },
  "language_info": {
   "codemirror_mode": {
    "name": "ipython",
    "version": 3
   },
   "file_extension": ".py",
   "mimetype": "text/x-python",
   "name": "python",
   "nbconvert_exporter": "python",
   "pygments_lexer": "ipython3",
   "version": "3.11.7"
  }
 },
 "nbformat": 4,
 "nbformat_minor": 5
}
