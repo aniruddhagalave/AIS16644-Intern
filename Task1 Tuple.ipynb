{
 "cells": [
  {
   "cell_type": "markdown",
   "id": "935b5853-9417-421e-986a-ef239a287536",
   "metadata": {},
   "source": [
    "#Tuple\n",
    "Tuples are used to store multiple items in a single variable.\n",
    "\n",
    "Tuple is one of 4 built-in data types in Python used to store collections of data, the other 3 are List, Set, and Dictionary, all with different qualities and usage.\n",
    "\n",
    "A tuple is a collection which is ordered and unchangeable.\n",
    "\n",
    "Tuples are written with round brackets."
   ]
  },
  {
   "cell_type": "code",
   "execution_count": 1,
   "id": "bd96ef29-7736-4f66-8bf7-789d8019cc7c",
   "metadata": {},
   "outputs": [
    {
     "name": "stdout",
     "output_type": "stream",
     "text": [
      "('Red', 'Blue', 'yellow')\n"
     ]
    }
   ],
   "source": [
    "tuple = (\"Red\", \"Blue\", \"yellow\")\n",
    "print(tuple)"
   ]
  },
  {
   "cell_type": "code",
   "execution_count": null,
   "id": "4383db9f-839b-4ced-9d73-293a6cc3dbde",
   "metadata": {},
   "outputs": [],
   "source": [
    "#Tuple Items\n",
    "Tuple items are ordered, unchangeable, and allow duplicate values.\n",
    "\n",
    "Tuple items are indexed, the first item has index [0], the second item has index [1] etc.\n",
    "\n",
    "#Ordered\n",
    "When we say that tuples are ordered, it means that the items have a defined order, and that order will not change.\n",
    "\n",
    "#Unchangeable\n",
    "Tuples are unchangeable, meaning that we cannot change, add or remove items after the tuple has been created.\n"
   ]
  },
  {
   "cell_type": "code",
   "execution_count": 2,
   "id": "c130f501-ab30-43af-b20f-066e23afa152",
   "metadata": {},
   "outputs": [
    {
     "name": "stdout",
     "output_type": "stream",
     "text": [
      "('Red', 'Blue', 'Yellow', 'Red', 'Yellow')\n"
     ]
    }
   ],
   "source": [
    "#Allow Duplicates\n",
    "#Since tuples are indexed, they can have items with the same value\n",
    "#Tuples allow duplicate values:\n",
    "\n",
    "tuple = (\"Red\", \"Blue\", \"Yellow\", \"Red\", \"Yellow\")\n",
    "print(tuple)"
   ]
  },
  {
   "cell_type": "code",
   "execution_count": 3,
   "id": "59f2489e-e660-4831-a9c8-88b26488940c",
   "metadata": {},
   "outputs": [
    {
     "name": "stdout",
     "output_type": "stream",
     "text": [
      "3\n"
     ]
    }
   ],
   "source": [
    "#Tuple Length\n",
    "#To determine how many items a tuple has, use the len() function:\n",
    "\n",
    "#Example\n",
    "tuple = (\"Red\", \"Blue\", \"Yellow\")\n",
    "print(len(tuple))"
   ]
  },
  {
   "cell_type": "code",
   "execution_count": 4,
   "id": "17578024-a6eb-42de-b0c7-b3ab8a97bde7",
   "metadata": {},
   "outputs": [
    {
     "name": "stdout",
     "output_type": "stream",
     "text": [
      "<class 'tuple'>\n",
      "<class 'str'>\n"
     ]
    }
   ],
   "source": [
    "#Create Tuple With One Item\n",
    "#To create a tuple with only one item, you have to add a comma after the item, otherwise Python will not recognize it as a tuple.\n",
    "\n",
    "#Example\n",
    "tuple = (\"Red\",)\n",
    "print(type(tuple))\n",
    "\n",
    "#NOT a tuple\n",
    "tuple = (\"Red\")\n",
    "print(type(tuple))\n"
   ]
  },
  {
   "cell_type": "code",
   "execution_count": 5,
   "id": "48c5a86b-3643-4146-a6ae-70db2f485e6f",
   "metadata": {},
   "outputs": [
    {
     "name": "stdout",
     "output_type": "stream",
     "text": [
      "('Red', 'Blue', 'Yellow')\n",
      "(1, 5, 8, 11, 4)\n",
      "(True, False, False)\n"
     ]
    }
   ],
   "source": [
    "#Tuple Items - Data Types\n",
    "#Tuple items can be of any data type\n",
    "\n",
    "#Example\n",
    "#String, int and boolean data types:\n",
    "\n",
    "tuple1 = (\"Red\", \"Blue\", \"Yellow\")\n",
    "tuple2 = (1, 5, 8,11, 4)\n",
    "tuple3 = (True, False, False)\n",
    "print(tuple1)\n",
    "print(tuple2)\n",
    "print(tuple3)\n"
   ]
  },
  {
   "cell_type": "code",
   "execution_count": 6,
   "id": "ee6bf57b-b553-4563-b983-8232042c4433",
   "metadata": {},
   "outputs": [
    {
     "name": "stdout",
     "output_type": "stream",
     "text": [
      "('abc', 34, True, 40, 'male')\n"
     ]
    }
   ],
   "source": [
    "#A tuple can contain different data types\n",
    "\n",
    "#Example\n",
    "#A tuple with strings, integers and boolean values:\n",
    "\n",
    "tuple = (\"abc\", 34, True, 40, \"male\")\n",
    "print(tuple)"
   ]
  },
  {
   "cell_type": "code",
   "execution_count": 7,
   "id": "24c34cba-ede6-4302-a696-988dc5d697e7",
   "metadata": {},
   "outputs": [
    {
     "name": "stdout",
     "output_type": "stream",
     "text": [
      "<class 'tuple'>\n"
     ]
    }
   ],
   "source": [
    "#type()\n",
    "#From Python's perspective, tuples are defined as objects with the data type 'tuple': <class 'tuple'>\n",
    "#Example\n",
    "tuple = (\"R\", \"B\", \"Y\")\n",
    "print(type(tuple))"
   ]
  },
  {
   "cell_type": "markdown",
   "id": "cc01ff26-8d22-43f4-aa37-86ed7cbf90e1",
   "metadata": {},
   "source": [
    "#The tuple() Constructor\n",
    "#It is also possible to use the tuple() constructor to make a tuple.\n",
    "\n",
    "#Example\n",
    "#Using the tuple() method to make a tuple:\n",
    "\n",
    "tuple1= tuple((\"R\", \"B\", \"Y\")) # note the double round-brackets\n",
    "print(tuple1)"
   ]
  }
 ],
 "metadata": {
  "kernelspec": {
   "display_name": "Python 3 (ipykernel)",
   "language": "python",
   "name": "python3"
  },
  "language_info": {
   "codemirror_mode": {
    "name": "ipython",
    "version": 3
   },
   "file_extension": ".py",
   "mimetype": "text/x-python",
   "name": "python",
   "nbconvert_exporter": "python",
   "pygments_lexer": "ipython3",
   "version": "3.11.7"
  }
 },
 "nbformat": 4,
 "nbformat_minor": 5
}
