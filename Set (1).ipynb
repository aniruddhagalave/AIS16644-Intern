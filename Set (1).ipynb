{
 "cells": [
  {
   "cell_type": "code",
   "execution_count": null,
   "id": "cb64027f-96ce-41b2-ab5d-6b2856b8f2eb",
   "metadata": {},
   "outputs": [],
   "source": [
    "#Set\n",
    "Sets are used to store multiple items in a single variable.\n",
    "\n",
    "Set is one of 4 built-in data types in Python used to store collections of data, the other 3 are List, Tuple, and Dictionary, all with different qualities and usage.\n",
    "\n",
    "A set is a collection which is unordered, unchangeable*, and unindexed.\n",
    "* Note: Set items are unchangeable, but you can remove items and add new items."
   ]
  },
  {
   "cell_type": "code",
   "execution_count": 1,
   "id": "5fe9438b-620d-491d-8cd0-b4b086c8ca58",
   "metadata": {},
   "outputs": [
    {
     "name": "stdout",
     "output_type": "stream",
     "text": [
      "{'Blue', 'Red', 'Yellow'}\n"
     ]
    }
   ],
   "source": [
    "#Sets are written with curly brackets.\n",
    "\n",
    "#Example\n",
    "\n",
    "set = {\"Red\", \"Blue\", \"Yellow\"}\n",
    "print(set)"
   ]
  },
  {
   "cell_type": "code",
   "execution_count": null,
   "id": "8f7d162f-a83b-4bb3-b912-5994be314e54",
   "metadata": {},
   "outputs": [],
   "source": [
    "#Set Items\n",
    "Set items are unordered, unchangeable, and do not allow duplicate values.\n",
    "\n",
    "#Unordered\n",
    "Unordered means that the items in a set do not have a defined order.\n",
    "\n",
    "Set items can appear in a different order every time you use them, and cannot be referred to by index or key.\n",
    "\n",
    "#Unchangeable\n",
    "Set items are unchangeable, meaning that we cannot change the items after the set has been created.\n",
    "\n",
    "Once a set is created, you cannot change its items, but you can remove items and add new items."
   ]
  },
  {
   "cell_type": "code",
   "execution_count": 2,
   "id": "d6a6d230-4c86-43d5-9a3a-6a5793896523",
   "metadata": {},
   "outputs": [
    {
     "name": "stdout",
     "output_type": "stream",
     "text": [
      "{'Blue', 'Red', 'Yellow'}\n"
     ]
    }
   ],
   "source": [
    "#Duplicates Not Allowed\n",
    "#Sets cannot have two items with the same value.\n",
    "\n",
    "#Example\n",
    "#Duplicate values will be ignored:\n",
    "\n",
    "set = {\"Red\", \"Blue\", \"Yellow\", \"Red\"}\n",
    "\n",
    "print(set)"
   ]
  },
  {
   "cell_type": "code",
   "execution_count": 3,
   "id": "7890a151-821a-4f2e-87ec-03ca1f3aa302",
   "metadata": {},
   "outputs": [
    {
     "name": "stdout",
     "output_type": "stream",
     "text": [
      "{'apple', True, 2, 'banana', 'cherry'}\n"
     ]
    }
   ],
   "source": [
    "#The values True and 1 are considered the same value in sets, and are treated as duplicates\n",
    "\n",
    "#Example\n",
    "#True and 1 is considered the same value:\n",
    "\n",
    "set = {\"apple\", \"banana\", \"cherry\", True, 1, 2}\n",
    "\n",
    "print(set)"
   ]
  },
  {
   "cell_type": "code",
   "execution_count": 4,
   "id": "fd87960a-8247-46b1-8d1c-7885407a26bf",
   "metadata": {},
   "outputs": [
    {
     "name": "stdout",
     "output_type": "stream",
     "text": [
      "{False, True, 'Blue', 'Red', 'Yellow'}\n"
     ]
    }
   ],
   "source": [
    "#The values False and 0 are considered the same value in sets, and are treated as duplicates\n",
    "\n",
    "#Example\n",
    "#False and 0 is considered the same value:\n",
    "\n",
    "set = {\"Red\", \"Blue\", \"Yellow\", False, True, 0}\n",
    "\n",
    "print(set)"
   ]
  },
  {
   "cell_type": "code",
   "execution_count": 5,
   "id": "99bbe328-1308-4f9e-8de8-693ce4d41f52",
   "metadata": {},
   "outputs": [
    {
     "name": "stdout",
     "output_type": "stream",
     "text": [
      "3\n"
     ]
    }
   ],
   "source": [
    "#Length of a Set\n",
    "#To determine how many items a set has, use the len() function.\n",
    "\n",
    "#Example\n",
    "set = {\"Red\", \"Blue\", \"Yellow\"}\n",
    "\n",
    "print(len(set))"
   ]
  },
  {
   "cell_type": "code",
   "execution_count": 6,
   "id": "68138516-970f-4696-875e-e0050d051fa6",
   "metadata": {},
   "outputs": [
    {
     "name": "stdout",
     "output_type": "stream",
     "text": [
      "{'apple', 'cherry', 'banana'}\n",
      "{1, 3, 5, 7, 9}\n",
      "{False, True}\n"
     ]
    }
   ],
   "source": [
    "#Set Items - Data Types\n",
    "#Set items can be of any data type:\n",
    "\n",
    "#Example\n",
    "\n",
    "set1 = {\"apple\", \"banana\", \"cherry\"}\n",
    "set2 = {1, 5, 7, 9, 3}\n",
    "set3 = {True, False, False}\n",
    "print(set1)\n",
    "print(set2)\n",
    "print(set3)"
   ]
  },
  {
   "cell_type": "code",
   "execution_count": 11,
   "id": "2e2ddaf8-d36b-4e41-a5e6-919000432b60",
   "metadata": {},
   "outputs": [
    {
     "name": "stdout",
     "output_type": "stream",
     "text": [
      "{True, 34, 'abc', 40, 'male'}\n"
     ]
    }
   ],
   "source": [
    " #set can contain different data types:\n",
    "\n",
    "#Example\n",
    "#A set with strings, integers and boolean values:\n",
    "\n",
    "set1 = {\"abc\", 34, True, 40, \"male\"}\n",
    "print(set1)"
   ]
  },
  {
   "cell_type": "code",
   "execution_count": 8,
   "id": "6260210a-469f-418e-8da5-fd631a6749cd",
   "metadata": {},
   "outputs": [
    {
     "name": "stdout",
     "output_type": "stream",
     "text": [
      "<class 'set'>\n"
     ]
    }
   ],
   "source": [
    "#type()\n",
    "#sets are defined as objects with the data type 'set':<class 'set'>\n",
    "#Example\n",
    "\n",
    "set = {\"apple\", \"banana\", \"cherry\"}\n",
    "print(type(set))"
   ]
  },
  {
   "cell_type": "code",
   "execution_count": 9,
   "id": "4703fdeb-86ef-42b1-a522-5b87ac46599a",
   "metadata": {},
   "outputs": [
    {
     "name": "stdout",
     "output_type": "stream",
     "text": [
      "{'Red', 'Yellow', 'Blue'}\n"
     ]
    }
   ],
   "source": [
    "#The set() Constructor\n",
    "#It is also possible to use the set() constructor to make a set.\n",
    "\n",
    "#Example\n",
    "#Using the set() constructor to make a set:\n",
    "\n",
    "myset = set((\"Red\", \"Blue\", \"Yellow\")) # note the double round-brackets\n",
    "print(myset)"
   ]
  },
  {
   "cell_type": "code",
   "execution_count": null,
   "id": "3ace22f6-5768-4efa-b2c6-b630aeeb98c2",
   "metadata": {},
   "outputs": [],
   "source": []
  }
 ],
 "metadata": {
  "kernelspec": {
   "display_name": "Python 3 (ipykernel)",
   "language": "python",
   "name": "python3"
  },
  "language_info": {
   "codemirror_mode": {
    "name": "ipython",
    "version": 3
   },
   "file_extension": ".py",
   "mimetype": "text/x-python",
   "name": "python",
   "nbconvert_exporter": "python",
   "pygments_lexer": "ipython3",
   "version": "3.11.7"
  }
 },
 "nbformat": 4,
 "nbformat_minor": 5
}
