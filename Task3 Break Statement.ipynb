{
 "cells": [
  {
   "cell_type": "markdown",
   "id": "34703da2-771b-4a2c-86e8-9383f0ba6a9a",
   "metadata": {},
   "source": [
    "#The break Statement\n",
    "The break statement is used to exit or \"break out\" of a loop prematurely.\n",
    "The break keyword is used to break out a for loop, or a while loop.\n"
   ]
  },
  {
   "cell_type": "code",
   "execution_count": 1,
   "id": "1113dd9b-136d-4f5e-9506-cdae377a99ae",
   "metadata": {},
   "outputs": [
    {
     "name": "stdout",
     "output_type": "stream",
     "text": [
      "red\n"
     ]
    }
   ],
   "source": [
    "#Example1\n",
    "#Exit the loop when x is \"red\":\n",
    "\n",
    "colours = [\"red\", \"blue\", \"yellow\"]\n",
    "for x in colours:\n",
    "  print(x)\n",
    "  if x == \"red\":\n",
    "    break"
   ]
  },
  {
   "cell_type": "code",
   "execution_count": 2,
   "id": "55ccd401-6cea-4cf3-8401-d057068f8d83",
   "metadata": {},
   "outputs": [
    {
     "name": "stdout",
     "output_type": "stream",
     "text": [
      "1\n",
      "2\n",
      "3\n"
     ]
    }
   ],
   "source": [
    "#Example2\n",
    "#Break out of a while loop:\n",
    "\n",
    "i = 1\n",
    "while i < 9:\n",
    "  print(i)\n",
    "  if i == 3:\n",
    "    break\n",
    "  i += 1"
   ]
  },
  {
   "cell_type": "code",
   "execution_count": 6,
   "id": "b7bf99ea-809b-4d2b-87d3-95be10138f2c",
   "metadata": {},
   "outputs": [
    {
     "name": "stdout",
     "output_type": "stream",
     "text": [
      "1\n",
      "2\n",
      "3\n"
     ]
    }
   ],
   "source": [
    "#Example3\n",
    "\n",
    "x=[1,2,3,4,5,6]\n",
    "for i in x:\n",
    "  print(i)\n",
    "  if i == 3:\n",
    "    break\n",
    " "
   ]
  }
 ],
 "metadata": {
  "kernelspec": {
   "display_name": "Python 3 (ipykernel)",
   "language": "python",
   "name": "python3"
  },
  "language_info": {
   "codemirror_mode": {
    "name": "ipython",
    "version": 3
   },
   "file_extension": ".py",
   "mimetype": "text/x-python",
   "name": "python",
   "nbconvert_exporter": "python",
   "pygments_lexer": "ipython3",
   "version": "3.11.7"
  }
 },
 "nbformat": 4,
 "nbformat_minor": 5
}
