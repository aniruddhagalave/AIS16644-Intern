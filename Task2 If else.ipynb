{
 "cells": [
  {
   "cell_type": "markdown",
   "id": "bb577029-d96e-4e44-8d2a-9e88fc16ff91",
   "metadata": {},
   "source": [
    "#If_Else\n",
    "The else keyword catches anything which isn't caught by the preceding conditions\n",
    "#Python supports the usual logical conditions from mathematics:\n",
    "\n",
    "Equals: a == b\n",
    "Not Equals: a != b\n",
    "Less than: a < b\n",
    "Less than or equal to: a <= b\n",
    "Greater than: a > b\n",
    "Greater than or equal to: a >= b"
   ]
  },
  {
   "cell_type": "code",
   "execution_count": 1,
   "id": "0b50f4e8-6c06-4b9b-8ae3-f980a7cf1ee3",
   "metadata": {},
   "outputs": [
    {
     "name": "stdout",
     "output_type": "stream",
     "text": [
      "b is less than a\n"
     ]
    }
   ],
   "source": [
    "#Example1\n",
    "a = 200\n",
    "b = 33\n",
    "if b > a:\n",
    "  print(\"b is greater than a\")\n",
    "else:\n",
    "  print(\"b is less than a\")"
   ]
  },
  {
   "cell_type": "code",
   "execution_count": 2,
   "id": "ab70607c-d349-4faf-960b-502d8e91d1a4",
   "metadata": {},
   "outputs": [
    {
     "name": "stdout",
     "output_type": "stream",
     "text": [
      "b is less than a\n"
     ]
    }
   ],
   "source": [
    "#Example2\n",
    "a = 75\n",
    "b = 25\n",
    "if b+a==105:\n",
    "  print(\"a & b are equal\")\n",
    "else:\n",
    "  print(\"b is less than a\")"
   ]
  },
  {
   "cell_type": "code",
   "execution_count": 3,
   "id": "36a7599a-cd73-447b-9b64-ebc77288506a",
   "metadata": {},
   "outputs": [
    {
     "name": "stdout",
     "output_type": "stream",
     "text": [
      "sum is correct\n"
     ]
    }
   ],
   "source": [
    "#Example3\n",
    "a = 75\n",
    "b = 25\n",
    "if b+a==100:\n",
    "  print(\"sum is correct\")\n",
    "else:\n",
    "  print(\"sum is wrong\")"
   ]
  },
  {
   "cell_type": "code",
   "execution_count": 4,
   "id": "2d66502a-91bf-4d25-9163-009cfd141c2f",
   "metadata": {},
   "outputs": [
    {
     "name": "stdout",
     "output_type": "stream",
     "text": [
      "a & b are not equal\n"
     ]
    }
   ],
   "source": [
    "#Example4\n",
    "a = 42\n",
    "b = 32\n",
    "if a==b:\n",
    "  print(\"a & b are equal \")\n",
    "else:\n",
    "  print(\"a & b are not equal\")"
   ]
  },
  {
   "cell_type": "code",
   "execution_count": 5,
   "id": "00996ff5-0d0a-48a1-a9d7-0eed7c96d09b",
   "metadata": {},
   "outputs": [
    {
     "name": "stdout",
     "output_type": "stream",
     "text": [
      "a is greter than equal to b \n"
     ]
    }
   ],
   "source": [
    "#Example5\n",
    "a = 42\n",
    "b = 32\n",
    "if a>=b:\n",
    "  print(\"a is greter than equal to b \")\n",
    "else:\n",
    "  print(\"a is less than equal to b\")"
   ]
  },
  {
   "cell_type": "code",
   "execution_count": 6,
   "id": "22bcdd85-03c6-4899-b55d-cbcbce05c4a4",
   "metadata": {},
   "outputs": [
    {
     "name": "stdout",
     "output_type": "stream",
     "text": [
      "a is greter than 25 \n"
     ]
    }
   ],
   "source": [
    "#Example6\n",
    "a==26\n",
    "if a>25:\n",
    "  print(\"a is greter than 25 \")\n",
    "else:\n",
    "  print(\"a is less than 25\")"
   ]
  },
  {
   "cell_type": "code",
   "execution_count": 7,
   "id": "a01c8019-a53d-422e-a497-45a545a6d47f",
   "metadata": {},
   "outputs": [
    {
     "name": "stdout",
     "output_type": "stream",
     "text": [
      "sum is correct\n"
     ]
    }
   ],
   "source": [
    "#Example7\n",
    "a=30\n",
    "b=25\n",
    "if a+b!=55:\n",
    "  print(\"sum is wrong \")\n",
    "else:\n",
    "  print(\"sum is correct\")"
   ]
  },
  {
   "cell_type": "code",
   "execution_count": 8,
   "id": "a6400d45-19b4-4cb2-b018-75f29b943720",
   "metadata": {},
   "outputs": [
    {
     "name": "stdout",
     "output_type": "stream",
     "text": [
      "a is  equal to 40\n"
     ]
    }
   ],
   "source": [
    "#Example8\n",
    "a=40\n",
    "if a!=40:\n",
    "  print(\"a is not equal to 40 \")\n",
    "else:\n",
    "  print(\"a is  equal to 40\")"
   ]
  },
  {
   "cell_type": "code",
   "execution_count": 9,
   "id": "525d4a88-2aee-450d-90f9-96378957f732",
   "metadata": {},
   "outputs": [
    {
     "name": "stdout",
     "output_type": "stream",
     "text": [
      "a is greter than equal to b \n"
     ]
    }
   ],
   "source": [
    "#Example9\n",
    "a = 5\n",
    "b = 5\n",
    "if a>=b:\n",
    "  print(\"a is greter than equal to b \")\n",
    "else:\n",
    "  print(\"a is less than equal to b\")"
   ]
  },
  {
   "cell_type": "code",
   "execution_count": 10,
   "id": "47754837-4d0a-4d74-90c9-b541e17edf83",
   "metadata": {},
   "outputs": [
    {
     "name": "stdout",
     "output_type": "stream",
     "text": [
      "a is less than b \n"
     ]
    }
   ],
   "source": [
    "#Example10\n",
    "a =19\n",
    "b = 55\n",
    "if a<b:\n",
    "  print(\"a is less than b \")\n",
    "else:\n",
    "  print(\"a is greter than b\")"
   ]
  }
 ],
 "metadata": {
  "kernelspec": {
   "display_name": "Python 3 (ipykernel)",
   "language": "python",
   "name": "python3"
  },
  "language_info": {
   "codemirror_mode": {
    "name": "ipython",
    "version": 3
   },
   "file_extension": ".py",
   "mimetype": "text/x-python",
   "name": "python",
   "nbconvert_exporter": "python",
   "pygments_lexer": "ipython3",
   "version": "3.11.7"
  }
 },
 "nbformat": 4,
 "nbformat_minor": 5
}
