{
 "cells": [
  {
   "cell_type": "code",
   "execution_count": null,
   "id": "9d1960e2-cd59-4e47-98cf-8256729cb69a",
   "metadata": {},
   "outputs": [],
   "source": [
    "#Conditions and If statements\n",
    "Python supports the usual logical conditions from mathematics:\n",
    "\n",
    "Equals: a == b\n",
    "Not Equals: a != b\n",
    "Less than: a < b\n",
    "Less than or equal to: a <= b\n",
    "Greater than: a > b\n",
    "Greater than or equal to: a >= b\n",
    "#These conditions can be used in several ways, most commonly in \"if statements\" and loops.\n"
   ]
  },
  {
   "cell_type": "code",
   "execution_count": 1,
   "id": "a79fa407-5c0e-49d5-9e23-7531c2b30893",
   "metadata": {},
   "outputs": [
    {
     "name": "stdout",
     "output_type": "stream",
     "text": [
      "b is equal to a\n"
     ]
    }
   ],
   "source": [
    "#An \"if statement\" is written by using the if keyword.\n",
    "\n",
    "#Example1\n",
    "#If statement:\n",
    "\n",
    "a = 45\n",
    "b = 45\n",
    "if b == a:\n",
    "  print(\"b is equal to a\")"
   ]
  },
  {
   "cell_type": "code",
   "execution_count": 2,
   "id": "d48e73c5-78d6-444c-bcce-938da850acf3",
   "metadata": {},
   "outputs": [
    {
     "name": "stdout",
     "output_type": "stream",
     "text": [
      "a is not equal to b\n"
     ]
    }
   ],
   "source": [
    "#Example2\n",
    "\n",
    "a = 40\n",
    "b = 45\n",
    "if a!=b:\n",
    "  print(\"a is not equal to b\")"
   ]
  },
  {
   "cell_type": "code",
   "execution_count": 3,
   "id": "327ee64f-c5f4-41d6-805e-79029aa058f5",
   "metadata": {},
   "outputs": [
    {
     "name": "stdout",
     "output_type": "stream",
     "text": [
      "a is less than b\n"
     ]
    }
   ],
   "source": [
    "#Example3\n",
    "\n",
    "a = 40\n",
    "b = 45\n",
    "if a<b:\n",
    "  print(\"a is less than b\")"
   ]
  },
  {
   "cell_type": "code",
   "execution_count": 4,
   "id": "ff40764c-86d9-4724-929a-98117cf67486",
   "metadata": {},
   "outputs": [
    {
     "name": "stdout",
     "output_type": "stream",
     "text": [
      "a is greter than b\n"
     ]
    }
   ],
   "source": [
    "#Example4\n",
    "\n",
    "a = 50\n",
    "b = 45\n",
    "if a>b:\n",
    "  print(\"a is greter than b\")"
   ]
  },
  {
   "cell_type": "code",
   "execution_count": 5,
   "id": "7e40b844-e50f-4627-82dd-9eee8b41e30f",
   "metadata": {},
   "outputs": [
    {
     "name": "stdout",
     "output_type": "stream",
     "text": [
      "a is less than equal to b\n"
     ]
    }
   ],
   "source": [
    "#Example5\n",
    "\n",
    "a = 47\n",
    "b = 47\n",
    "if a<=b:\n",
    "  print(\"a is less than equal to b\")"
   ]
  },
  {
   "cell_type": "code",
   "execution_count": 6,
   "id": "beeadd6d-6e16-426a-a810-c3d5f6eda5e1",
   "metadata": {},
   "outputs": [
    {
     "name": "stdout",
     "output_type": "stream",
     "text": [
      "a is greter than equal to b\n"
     ]
    }
   ],
   "source": [
    "#Example6\n",
    "\n",
    "a = 47\n",
    "b = 47\n",
    "if a>=b:\n",
    "  print(\"a is greter than equal to b\")"
   ]
  },
  {
   "cell_type": "code",
   "execution_count": 7,
   "id": "ad4c1edf-2402-4433-bc3a-68b4ae4d8f79",
   "metadata": {},
   "outputs": [
    {
     "name": "stdout",
     "output_type": "stream",
     "text": [
      "a is greter than b\n"
     ]
    }
   ],
   "source": [
    "#Example7\n",
    "\n",
    "a =150\n",
    "b =145\n",
    "if a>b:\n",
    "  print(\"a is greter than b\")"
   ]
  },
  {
   "cell_type": "code",
   "execution_count": 8,
   "id": "88a260df-6ec3-49fa-be97-7227f58d4ecd",
   "metadata": {},
   "outputs": [
    {
     "name": "stdout",
     "output_type": "stream",
     "text": [
      "a is less than b\n"
     ]
    }
   ],
   "source": [
    "#Example8\n",
    "\n",
    "a = 85\n",
    "b = 115\n",
    "if a<b:\n",
    "  print(\"a is less than b\")"
   ]
  },
  {
   "cell_type": "code",
   "execution_count": 9,
   "id": "5be60838-0a7f-458f-8c81-171859615b55",
   "metadata": {},
   "outputs": [
    {
     "name": "stdout",
     "output_type": "stream",
     "text": [
      "a is not equal to b\n"
     ]
    }
   ],
   "source": [
    "#Example9\n",
    "\n",
    "a = 15\n",
    "b = 16\n",
    "if a!=b:\n",
    "  print(\"a is not equal to b\")"
   ]
  },
  {
   "cell_type": "code",
   "execution_count": 10,
   "id": "e55e884e-64db-428f-8c11-f4f2cdcb9084",
   "metadata": {},
   "outputs": [
    {
     "name": "stdout",
     "output_type": "stream",
     "text": [
      "b is less than a\n"
     ]
    }
   ],
   "source": [
    "#Example10\n",
    "\n",
    "a = 47\n",
    "b = 21\n",
    "if a>b:\n",
    "  print(\"b is less than a\")"
   ]
  },
  {
   "cell_type": "code",
   "execution_count": null,
   "id": "5f4f5593-b087-43ec-975a-a1fe6bc28533",
   "metadata": {},
   "outputs": [],
   "source": []
  }
 ],
 "metadata": {
  "kernelspec": {
   "display_name": "Python 3 (ipykernel)",
   "language": "python",
   "name": "python3"
  },
  "language_info": {
   "codemirror_mode": {
    "name": "ipython",
    "version": 3
   },
   "file_extension": ".py",
   "mimetype": "text/x-python",
   "name": "python",
   "nbconvert_exporter": "python",
   "pygments_lexer": "ipython3",
   "version": "3.11.7"
  }
 },
 "nbformat": 4,
 "nbformat_minor": 5
}
